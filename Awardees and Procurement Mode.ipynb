{
 "cells": [
  {
   "cell_type": "code",
   "execution_count": 1,
   "metadata": {},
   "outputs": [],
   "source": [
    "import pandas as pd\n",
    "import numpy as np"
   ]
  },
  {
   "cell_type": "code",
   "execution_count": 2,
   "metadata": {},
   "outputs": [],
   "source": [
    "pd.options.display.max_columns = None\n",
    "pd.options.display.max_rows = None"
   ]
  },
  {
   "cell_type": "code",
   "execution_count": 3,
   "metadata": {},
   "outputs": [],
   "source": [
    "Awardees = pd.read_excel(\"C:/Users/wolfgang/Documents/Work/DPWH/PhilGEPS Data/Procurement Data 2010-2013 Awardees.xlsx\")"
   ]
  },
  {
   "cell_type": "code",
   "execution_count": 4,
   "metadata": {},
   "outputs": [],
   "source": [
    "PMode = pd.read_excel(\"C:/Users/wolfgang/Documents/Work/DPWH/PhilGEPS Data/Procurement Data 2010-2013 Procurement Mode.xlsx\")"
   ]
  },
  {
   "cell_type": "markdown",
   "metadata": {},
   "source": [
    "## Awardees"
   ]
  },
  {
   "cell_type": "code",
   "execution_count": 5,
   "metadata": {},
   "outputs": [
    {
     "name": "stdout",
     "output_type": "stream",
     "text": [
      "<class 'pandas.core.frame.DataFrame'>\n",
      "RangeIndex: 524 entries, 0 to 523\n",
      "Data columns (total 5 columns):\n",
      "Organization_Name     524 non-null object\n",
      "Quarter               524 non-null object\n",
      "Year                  524 non-null int64\n",
      "Awardee               524 non-null object\n",
      "Number_of_Projects    524 non-null int64\n",
      "dtypes: int64(2), object(3)\n",
      "memory usage: 14.4+ KB\n"
     ]
    }
   ],
   "source": [
    "Awardees.info()"
   ]
  },
  {
   "cell_type": "code",
   "execution_count": 6,
   "metadata": {},
   "outputs": [
    {
     "data": {
      "text/html": [
       "<div>\n",
       "<style scoped>\n",
       "    .dataframe tbody tr th:only-of-type {\n",
       "        vertical-align: middle;\n",
       "    }\n",
       "\n",
       "    .dataframe tbody tr th {\n",
       "        vertical-align: top;\n",
       "    }\n",
       "\n",
       "    .dataframe thead th {\n",
       "        text-align: right;\n",
       "    }\n",
       "</style>\n",
       "<table border=\"1\" class=\"dataframe\">\n",
       "  <thead>\n",
       "    <tr style=\"text-align: right;\">\n",
       "      <th></th>\n",
       "      <th>index</th>\n",
       "      <th>Organization_Name</th>\n",
       "    </tr>\n",
       "  </thead>\n",
       "  <tbody>\n",
       "    <tr>\n",
       "      <th>0</th>\n",
       "      <td>DPWH Main</td>\n",
       "      <td>455</td>\n",
       "    </tr>\n",
       "    <tr>\n",
       "      <th>1</th>\n",
       "      <td>City of Las Pinas</td>\n",
       "      <td>69</td>\n",
       "    </tr>\n",
       "  </tbody>\n",
       "</table>\n",
       "</div>"
      ],
      "text/plain": [
       "               index  Organization_Name\n",
       "0          DPWH Main                455\n",
       "1  City of Las Pinas                 69"
      ]
     },
     "execution_count": 6,
     "metadata": {},
     "output_type": "execute_result"
    }
   ],
   "source": [
    "Awardees.Organization_Name.value_counts().reset_index()"
   ]
  },
  {
   "cell_type": "code",
   "execution_count": 7,
   "metadata": {},
   "outputs": [],
   "source": [
    "A_DPWH_Main = Awardees[Awardees.Organization_Name == 'DPWH Main']"
   ]
  },
  {
   "cell_type": "code",
   "execution_count": 8,
   "metadata": {},
   "outputs": [],
   "source": [
    "A_CLP = Awardees[Awardees.Organization_Name == 'City of Las Pinas']"
   ]
  },
  {
   "cell_type": "markdown",
   "metadata": {},
   "source": [
    "### DPWH Awardees 2010-2013\n",
    "\n",
    "Awardees of DPWH Projects"
   ]
  },
  {
   "cell_type": "code",
   "execution_count": 9,
   "metadata": {
    "scrolled": true
   },
   "outputs": [
    {
     "data": {
      "text/html": [
       "<div>\n",
       "<style scoped>\n",
       "    .dataframe tbody tr th:only-of-type {\n",
       "        vertical-align: middle;\n",
       "    }\n",
       "\n",
       "    .dataframe tbody tr th {\n",
       "        vertical-align: top;\n",
       "    }\n",
       "\n",
       "    .dataframe thead th {\n",
       "        text-align: right;\n",
       "    }\n",
       "</style>\n",
       "<table border=\"1\" class=\"dataframe\">\n",
       "  <thead>\n",
       "    <tr style=\"text-align: right;\">\n",
       "      <th></th>\n",
       "      <th>index</th>\n",
       "      <th>Awardee</th>\n",
       "    </tr>\n",
       "  </thead>\n",
       "  <tbody>\n",
       "    <tr>\n",
       "      <th>0</th>\n",
       "      <td>FOXROD AUTO PARTS AND SERVICES</td>\n",
       "      <td>11</td>\n",
       "    </tr>\n",
       "    <tr>\n",
       "      <th>1</th>\n",
       "      <td>CENTRAL LOCKWOOD HARDWARE AND LUMBER INC.</td>\n",
       "      <td>10</td>\n",
       "    </tr>\n",
       "    <tr>\n",
       "      <th>2</th>\n",
       "      <td>NORTHERN BUILDERS</td>\n",
       "      <td>9</td>\n",
       "    </tr>\n",
       "    <tr>\n",
       "      <th>3</th>\n",
       "      <td>P.T. DIAMOND MERCHANDISE AND CONSTRUCTION</td>\n",
       "      <td>8</td>\n",
       "    </tr>\n",
       "    <tr>\n",
       "      <th>4</th>\n",
       "      <td>COMPRENET ENTERPRISES</td>\n",
       "      <td>7</td>\n",
       "    </tr>\n",
       "    <tr>\n",
       "      <th>5</th>\n",
       "      <td>BIOSPHERE CONSTRUCTION AND SUPPLIES, INC.</td>\n",
       "      <td>7</td>\n",
       "    </tr>\n",
       "    <tr>\n",
       "      <th>6</th>\n",
       "      <td>BENTIDEL ENTERPRISES AND DEVELOPER</td>\n",
       "      <td>6</td>\n",
       "    </tr>\n",
       "    <tr>\n",
       "      <th>7</th>\n",
       "      <td>IKF HOME FURNISHING &amp; OFFICE FURNITURE</td>\n",
       "      <td>6</td>\n",
       "    </tr>\n",
       "    <tr>\n",
       "      <th>8</th>\n",
       "      <td>GILCOR PRINTING PRESS</td>\n",
       "      <td>6</td>\n",
       "    </tr>\n",
       "    <tr>\n",
       "      <th>9</th>\n",
       "      <td>MCSA MARKETING</td>\n",
       "      <td>6</td>\n",
       "    </tr>\n",
       "    <tr>\n",
       "      <th>10</th>\n",
       "      <td>UNITED TECHNOLOGIES CONSOLIDATED PARTNERSHIP</td>\n",
       "      <td>5</td>\n",
       "    </tr>\n",
       "    <tr>\n",
       "      <th>11</th>\n",
       "      <td>PERTCONSULT INTERNATIONAL</td>\n",
       "      <td>5</td>\n",
       "    </tr>\n",
       "    <tr>\n",
       "      <th>12</th>\n",
       "      <td>R. D. INTERIOR JUNIOR CONSTRUCTION</td>\n",
       "      <td>5</td>\n",
       "    </tr>\n",
       "    <tr>\n",
       "      <th>13</th>\n",
       "      <td>HP TRADING AND AIRCONDITIONING CORP.</td>\n",
       "      <td>5</td>\n",
       "    </tr>\n",
       "    <tr>\n",
       "      <th>14</th>\n",
       "      <td>J.D. LEGASPI CONSTRUCTION</td>\n",
       "      <td>5</td>\n",
       "    </tr>\n",
       "    <tr>\n",
       "      <th>15</th>\n",
       "      <td>GENUINE TRADING</td>\n",
       "      <td>4</td>\n",
       "    </tr>\n",
       "    <tr>\n",
       "      <th>16</th>\n",
       "      <td>A. M. ORETA &amp; CO., INC.</td>\n",
       "      <td>4</td>\n",
       "    </tr>\n",
       "    <tr>\n",
       "      <th>17</th>\n",
       "      <td>E.H. SISON ENGINEERS, CO. (EHSEC)</td>\n",
       "      <td>4</td>\n",
       "    </tr>\n",
       "    <tr>\n",
       "      <th>18</th>\n",
       "      <td>GUARANTY HARDWARE &amp; CONSTRUCTION SUPPLY</td>\n",
       "      <td>4</td>\n",
       "    </tr>\n",
       "    <tr>\n",
       "      <th>19</th>\n",
       "      <td>ENA POWER BUILDERS, INC.</td>\n",
       "      <td>4</td>\n",
       "    </tr>\n",
       "    <tr>\n",
       "      <th>20</th>\n",
       "      <td>O.R. SARMIENTO CONSTRUCTION</td>\n",
       "      <td>4</td>\n",
       "    </tr>\n",
       "    <tr>\n",
       "      <th>21</th>\n",
       "      <td>HAIDEE CONSTRUCTION &amp; DEVELOPMENT CORPORATION</td>\n",
       "      <td>4</td>\n",
       "    </tr>\n",
       "    <tr>\n",
       "      <th>22</th>\n",
       "      <td>MB MASTER SUPPLIES CORPORATION</td>\n",
       "      <td>4</td>\n",
       "    </tr>\n",
       "    <tr>\n",
       "      <th>23</th>\n",
       "      <td>RENARDET S.A.</td>\n",
       "      <td>4</td>\n",
       "    </tr>\n",
       "    <tr>\n",
       "      <th>24</th>\n",
       "      <td>TRI-GLOBE TRANSPORT SERVICES AND TRADING, INC.</td>\n",
       "      <td>4</td>\n",
       "    </tr>\n",
       "    <tr>\n",
       "      <th>25</th>\n",
       "      <td>VICENTE T. LAO CONSTRUCTION</td>\n",
       "      <td>4</td>\n",
       "    </tr>\n",
       "    <tr>\n",
       "      <th>26</th>\n",
       "      <td>GLOBAL MYOHO RENGE COPY INC.</td>\n",
       "      <td>3</td>\n",
       "    </tr>\n",
       "    <tr>\n",
       "      <th>27</th>\n",
       "      <td>L.R. TIQUI BUILDERS, INC.</td>\n",
       "      <td>3</td>\n",
       "    </tr>\n",
       "    <tr>\n",
       "      <th>28</th>\n",
       "      <td>EQUI-PARCO CONSTRUCTION COMPANY</td>\n",
       "      <td>3</td>\n",
       "    </tr>\n",
       "    <tr>\n",
       "      <th>29</th>\n",
       "      <td>LUZON SALES COMPANY, INCORPORATED</td>\n",
       "      <td>3</td>\n",
       "    </tr>\n",
       "    <tr>\n",
       "      <th>30</th>\n",
       "      <td>CTI ENGINEERING INTERNATIONAL CO., LTD.</td>\n",
       "      <td>3</td>\n",
       "    </tr>\n",
       "    <tr>\n",
       "      <th>31</th>\n",
       "      <td>R.A. PAHATI GRAVEL AND SAND</td>\n",
       "      <td>3</td>\n",
       "    </tr>\n",
       "    <tr>\n",
       "      <th>32</th>\n",
       "      <td>NEW A. G. STYLIST FURNITURE</td>\n",
       "      <td>3</td>\n",
       "    </tr>\n",
       "    <tr>\n",
       "      <th>33</th>\n",
       "      <td>BMK CONSTRUCTION</td>\n",
       "      <td>3</td>\n",
       "    </tr>\n",
       "    <tr>\n",
       "      <th>34</th>\n",
       "      <td>R.D. POLICARPIO &amp; CO., INC.</td>\n",
       "      <td>3</td>\n",
       "    </tr>\n",
       "    <tr>\n",
       "      <th>35</th>\n",
       "      <td>INTEGRATED COMPUTER SYSTEMS, INC.</td>\n",
       "      <td>3</td>\n",
       "    </tr>\n",
       "    <tr>\n",
       "      <th>36</th>\n",
       "      <td>CIVIC MERCHANDISING, INC.</td>\n",
       "      <td>3</td>\n",
       "    </tr>\n",
       "    <tr>\n",
       "      <th>37</th>\n",
       "      <td>NAIC TRADING</td>\n",
       "      <td>3</td>\n",
       "    </tr>\n",
       "    <tr>\n",
       "      <th>38</th>\n",
       "      <td>YAKAL CONSTRUCTION</td>\n",
       "      <td>3</td>\n",
       "    </tr>\n",
       "    <tr>\n",
       "      <th>39</th>\n",
       "      <td>JQ TECH COMPUTER SERVICE</td>\n",
       "      <td>3</td>\n",
       "    </tr>\n",
       "    <tr>\n",
       "      <th>40</th>\n",
       "      <td>ELIAKIM GENERAL MERCHANDISE</td>\n",
       "      <td>3</td>\n",
       "    </tr>\n",
       "    <tr>\n",
       "      <th>41</th>\n",
       "      <td>BSP &amp; COMPANY INC.</td>\n",
       "      <td>3</td>\n",
       "    </tr>\n",
       "    <tr>\n",
       "      <th>42</th>\n",
       "      <td>CUSTOMERS FIRST TRADING</td>\n",
       "      <td>3</td>\n",
       "    </tr>\n",
       "    <tr>\n",
       "      <th>43</th>\n",
       "      <td>HI-TRI DEVELOPMENT CORPORATION</td>\n",
       "      <td>3</td>\n",
       "    </tr>\n",
       "    <tr>\n",
       "      <th>44</th>\n",
       "      <td>MICROBASE INCORPORATED</td>\n",
       "      <td>3</td>\n",
       "    </tr>\n",
       "    <tr>\n",
       "      <th>45</th>\n",
       "      <td>PACIFIC CONCRETE PRODUCTS, INC.</td>\n",
       "      <td>3</td>\n",
       "    </tr>\n",
       "    <tr>\n",
       "      <th>46</th>\n",
       "      <td>TOKWING CONSTRUCTION CORP.</td>\n",
       "      <td>3</td>\n",
       "    </tr>\n",
       "    <tr>\n",
       "      <th>47</th>\n",
       "      <td>M LACUESTA INTERNATIONAL TRADING</td>\n",
       "      <td>3</td>\n",
       "    </tr>\n",
       "    <tr>\n",
       "      <th>48</th>\n",
       "      <td>FATMAN ENTERPRISES</td>\n",
       "      <td>2</td>\n",
       "    </tr>\n",
       "    <tr>\n",
       "      <th>49</th>\n",
       "      <td>ROQSON INDUSTRIAL SALES, INC.</td>\n",
       "      <td>2</td>\n",
       "    </tr>\n",
       "    <tr>\n",
       "      <th>50</th>\n",
       "      <td>FILPRIDE RESOURCES INC.</td>\n",
       "      <td>2</td>\n",
       "    </tr>\n",
       "    <tr>\n",
       "      <th>51</th>\n",
       "      <td>CHEMGATE INDUSTRIAL SALES</td>\n",
       "      <td>2</td>\n",
       "    </tr>\n",
       "    <tr>\n",
       "      <th>52</th>\n",
       "      <td>AKN CONSTRUCTION CORPORATION</td>\n",
       "      <td>2</td>\n",
       "    </tr>\n",
       "    <tr>\n",
       "      <th>53</th>\n",
       "      <td>E.M. CUERPO INC.</td>\n",
       "      <td>2</td>\n",
       "    </tr>\n",
       "    <tr>\n",
       "      <th>54</th>\n",
       "      <td>DEVELOPMENT ACADEMY OF THE PHILIPPINES</td>\n",
       "      <td>2</td>\n",
       "    </tr>\n",
       "    <tr>\n",
       "      <th>55</th>\n",
       "      <td>HUNAN ROAD &amp; BRIDGE CORPORATION PHIL. BRANCH</td>\n",
       "      <td>2</td>\n",
       "    </tr>\n",
       "    <tr>\n",
       "      <th>56</th>\n",
       "      <td>FOUNDATION SPECIALISTS, INC.</td>\n",
       "      <td>2</td>\n",
       "    </tr>\n",
       "    <tr>\n",
       "      <th>57</th>\n",
       "      <td>ECH20 CORPORATION</td>\n",
       "      <td>2</td>\n",
       "    </tr>\n",
       "    <tr>\n",
       "      <th>58</th>\n",
       "      <td>CHINA HENAN SHUILI YIJU</td>\n",
       "      <td>2</td>\n",
       "    </tr>\n",
       "    <tr>\n",
       "      <th>59</th>\n",
       "      <td>PRINT DEPOT, INC.</td>\n",
       "      <td>2</td>\n",
       "    </tr>\n",
       "    <tr>\n",
       "      <th>60</th>\n",
       "      <td>DEMCOR ENGINEERS CO.</td>\n",
       "      <td>2</td>\n",
       "    </tr>\n",
       "    <tr>\n",
       "      <th>61</th>\n",
       "      <td>LEADWAY CONSTRUCTION AND DEVELOPMENT CORPORATION</td>\n",
       "      <td>2</td>\n",
       "    </tr>\n",
       "    <tr>\n",
       "      <th>62</th>\n",
       "      <td>FERDSTAR BUILDERS CONTRACTORS</td>\n",
       "      <td>2</td>\n",
       "    </tr>\n",
       "    <tr>\n",
       "      <th>63</th>\n",
       "      <td>GLOBAL INSTRUMENTS CORPORATION</td>\n",
       "      <td>2</td>\n",
       "    </tr>\n",
       "    <tr>\n",
       "      <th>64</th>\n",
       "      <td>MAC BUILDERS</td>\n",
       "      <td>2</td>\n",
       "    </tr>\n",
       "    <tr>\n",
       "      <th>65</th>\n",
       "      <td>CHINA GEO-ENGINEERING CORPORATION</td>\n",
       "      <td>2</td>\n",
       "    </tr>\n",
       "    <tr>\n",
       "      <th>66</th>\n",
       "      <td>PHILWORKS CONSTRUCTION AND SUPPLY</td>\n",
       "      <td>2</td>\n",
       "    </tr>\n",
       "    <tr>\n",
       "      <th>67</th>\n",
       "      <td>ZURBANO PUBLISHING AND PRINTING CORP.</td>\n",
       "      <td>2</td>\n",
       "    </tr>\n",
       "    <tr>\n",
       "      <th>68</th>\n",
       "      <td>WERR CORPORATION INTERNATIONAL</td>\n",
       "      <td>2</td>\n",
       "    </tr>\n",
       "    <tr>\n",
       "      <th>69</th>\n",
       "      <td>JM AUTO PARTS &amp; GENERAL MERCHANDISE CO.</td>\n",
       "      <td>2</td>\n",
       "    </tr>\n",
       "    <tr>\n",
       "      <th>70</th>\n",
       "      <td>FIAT CONSTRUCTION SERVICES</td>\n",
       "      <td>2</td>\n",
       "    </tr>\n",
       "    <tr>\n",
       "      <th>71</th>\n",
       "      <td>PROFILES ASIA PACIFIC INC</td>\n",
       "      <td>2</td>\n",
       "    </tr>\n",
       "    <tr>\n",
       "      <th>72</th>\n",
       "      <td>HLYC TRADING</td>\n",
       "      <td>2</td>\n",
       "    </tr>\n",
       "    <tr>\n",
       "      <th>73</th>\n",
       "      <td>XEFAR ENTERPRISES</td>\n",
       "      <td>2</td>\n",
       "    </tr>\n",
       "    <tr>\n",
       "      <th>74</th>\n",
       "      <td>AARCON BUILDERS</td>\n",
       "      <td>2</td>\n",
       "    </tr>\n",
       "    <tr>\n",
       "      <th>75</th>\n",
       "      <td>MACRO CONSTRUCTION EQUIPMENT</td>\n",
       "      <td>2</td>\n",
       "    </tr>\n",
       "    <tr>\n",
       "      <th>76</th>\n",
       "      <td>LINK_NETWORK SOLUTIONS INC.</td>\n",
       "      <td>2</td>\n",
       "    </tr>\n",
       "    <tr>\n",
       "      <th>77</th>\n",
       "      <td>R.A. PAHATI CONST. &amp; SUPPLY, INC</td>\n",
       "      <td>2</td>\n",
       "    </tr>\n",
       "    <tr>\n",
       "      <th>78</th>\n",
       "      <td>WORKSTATION DESIGNERS CENTER</td>\n",
       "      <td>2</td>\n",
       "    </tr>\n",
       "    <tr>\n",
       "      <th>79</th>\n",
       "      <td>CM RECTO AUTO SUPPLY CO., INC</td>\n",
       "      <td>2</td>\n",
       "    </tr>\n",
       "    <tr>\n",
       "      <th>80</th>\n",
       "      <td>ALLIED QUAD CONSTRUCTION &amp; TRADING</td>\n",
       "      <td>2</td>\n",
       "    </tr>\n",
       "    <tr>\n",
       "      <th>81</th>\n",
       "      <td>ESR CONSTRUCTION &amp; SUPPLIES</td>\n",
       "      <td>2</td>\n",
       "    </tr>\n",
       "    <tr>\n",
       "      <th>82</th>\n",
       "      <td>SHELLSOFT TECHNOLOGY CORPORATION</td>\n",
       "      <td>2</td>\n",
       "    </tr>\n",
       "    <tr>\n",
       "      <th>83</th>\n",
       "      <td>UDASCO HOUSE OF PRINTING</td>\n",
       "      <td>2</td>\n",
       "    </tr>\n",
       "    <tr>\n",
       "      <th>84</th>\n",
       "      <td>AIRFREIGHT 2100, INC.</td>\n",
       "      <td>2</td>\n",
       "    </tr>\n",
       "    <tr>\n",
       "      <th>85</th>\n",
       "      <td>ULTICON BUILDERS, INC.</td>\n",
       "      <td>2</td>\n",
       "    </tr>\n",
       "    <tr>\n",
       "      <th>86</th>\n",
       "      <td>MSB VITUG CONSTRUCTION</td>\n",
       "      <td>2</td>\n",
       "    </tr>\n",
       "    <tr>\n",
       "      <th>87</th>\n",
       "      <td>STANLEY BRADLEY TRADING INC.</td>\n",
       "      <td>2</td>\n",
       "    </tr>\n",
       "    <tr>\n",
       "      <th>88</th>\n",
       "      <td>URBAN ENGINEERS</td>\n",
       "      <td>2</td>\n",
       "    </tr>\n",
       "    <tr>\n",
       "      <th>89</th>\n",
       "      <td>B. VICENCIO CONSTRUCTION</td>\n",
       "      <td>2</td>\n",
       "    </tr>\n",
       "    <tr>\n",
       "      <th>90</th>\n",
       "      <td>F.F. CRUZ &amp; CO., INC.</td>\n",
       "      <td>2</td>\n",
       "    </tr>\n",
       "    <tr>\n",
       "      <th>91</th>\n",
       "      <td>GENETIAN BUILDERS</td>\n",
       "      <td>1</td>\n",
       "    </tr>\n",
       "    <tr>\n",
       "      <th>92</th>\n",
       "      <td>CAVDEAL - CAVITE IDEAL INTERNATIONAL CONSTRUCT...</td>\n",
       "      <td>1</td>\n",
       "    </tr>\n",
       "    <tr>\n",
       "      <th>93</th>\n",
       "      <td>HEBEI ROAD AND BRIDGE GROUP CO., LTD</td>\n",
       "      <td>1</td>\n",
       "    </tr>\n",
       "    <tr>\n",
       "      <th>94</th>\n",
       "      <td>MONOLITHIC CONSTRUCTION AND CONCRETE PRODUCTS,...</td>\n",
       "      <td>1</td>\n",
       "    </tr>\n",
       "    <tr>\n",
       "      <th>95</th>\n",
       "      <td>COSMOTECH PHILIPPINES, INC.</td>\n",
       "      <td>1</td>\n",
       "    </tr>\n",
       "    <tr>\n",
       "      <th>96</th>\n",
       "      <td>DESIGN CREST FURNITURE COMPONENT</td>\n",
       "      <td>1</td>\n",
       "    </tr>\n",
       "    <tr>\n",
       "      <th>97</th>\n",
       "      <td>STRAIGHTFORWARD ENTERPRISES</td>\n",
       "      <td>1</td>\n",
       "    </tr>\n",
       "    <tr>\n",
       "      <th>98</th>\n",
       "      <td>GAMMA LINE ENTERPRISE</td>\n",
       "      <td>1</td>\n",
       "    </tr>\n",
       "    <tr>\n",
       "      <th>99</th>\n",
       "      <td>R.S. SEPIAN CONSTRUCTION &amp; TRUCKING</td>\n",
       "      <td>1</td>\n",
       "    </tr>\n",
       "    <tr>\n",
       "      <th>100</th>\n",
       "      <td>ANGEL LAZARO AND ASSOCIATES INTERNATIONAL</td>\n",
       "      <td>1</td>\n",
       "    </tr>\n",
       "    <tr>\n",
       "      <th>101</th>\n",
       "      <td>DSB CONSTRUCTION &amp; SUPPLY, INC.</td>\n",
       "      <td>1</td>\n",
       "    </tr>\n",
       "    <tr>\n",
       "      <th>102</th>\n",
       "      <td>2-R CONSTRUCTION &amp; SUPPLY</td>\n",
       "      <td>1</td>\n",
       "    </tr>\n",
       "    <tr>\n",
       "      <th>103</th>\n",
       "      <td>LP JACA MARKETING</td>\n",
       "      <td>1</td>\n",
       "    </tr>\n",
       "    <tr>\n",
       "      <th>104</th>\n",
       "      <td>ROFMAN TRADING</td>\n",
       "      <td>1</td>\n",
       "    </tr>\n",
       "    <tr>\n",
       "      <th>105</th>\n",
       "      <td>GAKKEN PHILIPPINES, INC.</td>\n",
       "      <td>1</td>\n",
       "    </tr>\n",
       "    <tr>\n",
       "      <th>106</th>\n",
       "      <td>CHRISTIAN IAN CONSTRUCTION CORPORATION</td>\n",
       "      <td>1</td>\n",
       "    </tr>\n",
       "    <tr>\n",
       "      <th>107</th>\n",
       "      <td>DADOY FREIGHT SERVICE CONSTRUCTION &amp;AMP; SUPPLY</td>\n",
       "      <td>1</td>\n",
       "    </tr>\n",
       "    <tr>\n",
       "      <th>108</th>\n",
       "      <td>BSPH MARKETING</td>\n",
       "      <td>1</td>\n",
       "    </tr>\n",
       "    <tr>\n",
       "      <th>109</th>\n",
       "      <td>BROSTAN CONSTRUCTION AND DEVELOPMENT</td>\n",
       "      <td>1</td>\n",
       "    </tr>\n",
       "    <tr>\n",
       "      <th>110</th>\n",
       "      <td>WIDE WIDE WORLD EXPRESS CORPORATION</td>\n",
       "      <td>1</td>\n",
       "    </tr>\n",
       "    <tr>\n",
       "      <th>111</th>\n",
       "      <td>GCI CONSTRUCTION</td>\n",
       "      <td>1</td>\n",
       "    </tr>\n",
       "    <tr>\n",
       "      <th>112</th>\n",
       "      <td>UK OFFICE, INC.</td>\n",
       "      <td>1</td>\n",
       "    </tr>\n",
       "    <tr>\n",
       "      <th>113</th>\n",
       "      <td>MONOLITHIC CONSTRUCTION AND CONCRETE PRODUCTS,...</td>\n",
       "      <td>1</td>\n",
       "    </tr>\n",
       "    <tr>\n",
       "      <th>114</th>\n",
       "      <td>CIVIL SERVICE COMMISSION - CENTRAL OFFICE</td>\n",
       "      <td>1</td>\n",
       "    </tr>\n",
       "    <tr>\n",
       "      <th>115</th>\n",
       "      <td>OTUS COPY SYSTEMS, INC.</td>\n",
       "      <td>1</td>\n",
       "    </tr>\n",
       "    <tr>\n",
       "      <th>116</th>\n",
       "      <td>E. GARDIOLA CONSTRUCTION</td>\n",
       "      <td>1</td>\n",
       "    </tr>\n",
       "    <tr>\n",
       "      <th>117</th>\n",
       "      <td>P.B. DIONISIO &amp; CO., INC.</td>\n",
       "      <td>1</td>\n",
       "    </tr>\n",
       "    <tr>\n",
       "      <th>118</th>\n",
       "      <td>R. TY TRADING</td>\n",
       "      <td>1</td>\n",
       "    </tr>\n",
       "    <tr>\n",
       "      <th>119</th>\n",
       "      <td>ASAHI DESIGN CENTER</td>\n",
       "      <td>1</td>\n",
       "    </tr>\n",
       "    <tr>\n",
       "      <th>120</th>\n",
       "      <td>NBR GENERAL MERCHANDISE</td>\n",
       "      <td>1</td>\n",
       "    </tr>\n",
       "    <tr>\n",
       "      <th>121</th>\n",
       "      <td>E.C. DE LUNA CONSTRUCTION CORP.</td>\n",
       "      <td>1</td>\n",
       "    </tr>\n",
       "    <tr>\n",
       "      <th>122</th>\n",
       "      <td>ZABU ENGINEERING</td>\n",
       "      <td>1</td>\n",
       "    </tr>\n",
       "    <tr>\n",
       "      <th>123</th>\n",
       "      <td>GETINSA INGENIERIA S.L.</td>\n",
       "      <td>1</td>\n",
       "    </tr>\n",
       "    <tr>\n",
       "      <th>124</th>\n",
       "      <td>A.P. PALACIOS CONSTRUCTION</td>\n",
       "      <td>1</td>\n",
       "    </tr>\n",
       "    <tr>\n",
       "      <th>125</th>\n",
       "      <td>C.M. PANCHO CONSTRUCTION, INC.</td>\n",
       "      <td>1</td>\n",
       "    </tr>\n",
       "    <tr>\n",
       "      <th>126</th>\n",
       "      <td>VERACITY SYNERGY SOLUTION'S, INC.</td>\n",
       "      <td>1</td>\n",
       "    </tr>\n",
       "    <tr>\n",
       "      <th>127</th>\n",
       "      <td>CENTER FOR ENVIRONMENTAL STUDIES AND MANAGEMEN...</td>\n",
       "      <td>1</td>\n",
       "    </tr>\n",
       "    <tr>\n",
       "      <th>128</th>\n",
       "      <td>CAMIA CONST. DEVELOPMENT CORPORATION</td>\n",
       "      <td>1</td>\n",
       "    </tr>\n",
       "    <tr>\n",
       "      <th>129</th>\n",
       "      <td>EXPLORER MOTORS INC.</td>\n",
       "      <td>1</td>\n",
       "    </tr>\n",
       "    <tr>\n",
       "      <th>130</th>\n",
       "      <td>FUNCTIONAL, INC.</td>\n",
       "      <td>1</td>\n",
       "    </tr>\n",
       "    <tr>\n",
       "      <th>131</th>\n",
       "      <td>EPLDT VENTUS, INC.</td>\n",
       "      <td>1</td>\n",
       "    </tr>\n",
       "    <tr>\n",
       "      <th>132</th>\n",
       "      <td>KYRO BUILDERS</td>\n",
       "      <td>1</td>\n",
       "    </tr>\n",
       "    <tr>\n",
       "      <th>133</th>\n",
       "      <td>NEWBURG COMMERCIAL INC.</td>\n",
       "      <td>1</td>\n",
       "    </tr>\n",
       "    <tr>\n",
       "      <th>134</th>\n",
       "      <td>CELLTRON MARKETING CO.</td>\n",
       "      <td>1</td>\n",
       "    </tr>\n",
       "    <tr>\n",
       "      <th>135</th>\n",
       "      <td>MCCD ENGINEERING SERVICES &amp; TRADING</td>\n",
       "      <td>1</td>\n",
       "    </tr>\n",
       "    <tr>\n",
       "      <th>136</th>\n",
       "      <td>FRANCISCO GLASS AND ALUMINUM SUPPLY AND SERVICES</td>\n",
       "      <td>1</td>\n",
       "    </tr>\n",
       "    <tr>\n",
       "      <th>137</th>\n",
       "      <td>ASSOCIATED RESOURCES FOR MANAGEMENT AND DEVELO...</td>\n",
       "      <td>1</td>\n",
       "    </tr>\n",
       "    <tr>\n",
       "      <th>138</th>\n",
       "      <td>J. M. LUCIANO CONSTRUCTION, INC.</td>\n",
       "      <td>1</td>\n",
       "    </tr>\n",
       "    <tr>\n",
       "      <th>139</th>\n",
       "      <td>UNLIMITED RESOURCE GROUP PHILS,. INC.</td>\n",
       "      <td>1</td>\n",
       "    </tr>\n",
       "    <tr>\n",
       "      <th>140</th>\n",
       "      <td>PHILIPPINE LONG DISTANCE TELEPHONE COMPANY</td>\n",
       "      <td>1</td>\n",
       "    </tr>\n",
       "    <tr>\n",
       "      <th>141</th>\n",
       "      <td>ATR MANUFACTURING &amp; TRADING CORPORATION</td>\n",
       "      <td>1</td>\n",
       "    </tr>\n",
       "    <tr>\n",
       "      <th>142</th>\n",
       "      <td>DUROS DEVELOPMENT CORPORATION</td>\n",
       "      <td>1</td>\n",
       "    </tr>\n",
       "    <tr>\n",
       "      <th>143</th>\n",
       "      <td>PUMPCRAFT INDUSTRIAL SALES</td>\n",
       "      <td>1</td>\n",
       "    </tr>\n",
       "    <tr>\n",
       "      <th>144</th>\n",
       "      <td>EC-TEC COMMERCIAL</td>\n",
       "      <td>1</td>\n",
       "    </tr>\n",
       "    <tr>\n",
       "      <th>145</th>\n",
       "      <td>INNOVE COMMUNICATIONS, INC.</td>\n",
       "      <td>1</td>\n",
       "    </tr>\n",
       "    <tr>\n",
       "      <th>146</th>\n",
       "      <td>LICHEL TECHNOLOGIES, INC.</td>\n",
       "      <td>1</td>\n",
       "    </tr>\n",
       "    <tr>\n",
       "      <th>147</th>\n",
       "      <td>CARDNO EMERGING MARKETS PTY LTD (AUST)</td>\n",
       "      <td>1</td>\n",
       "    </tr>\n",
       "    <tr>\n",
       "      <th>148</th>\n",
       "      <td>NFH CONSTRUCTION &amp; SUPPLY</td>\n",
       "      <td>1</td>\n",
       "    </tr>\n",
       "    <tr>\n",
       "      <th>149</th>\n",
       "      <td>ALGON ENGINEERING CONSTRUCTION CORPORATION</td>\n",
       "      <td>1</td>\n",
       "    </tr>\n",
       "    <tr>\n",
       "      <th>150</th>\n",
       "      <td>BUSINESS MACHINES CORPORATION</td>\n",
       "      <td>1</td>\n",
       "    </tr>\n",
       "    <tr>\n",
       "      <th>151</th>\n",
       "      <td>PALEENO AP .INC</td>\n",
       "      <td>1</td>\n",
       "    </tr>\n",
       "    <tr>\n",
       "      <th>152</th>\n",
       "      <td>J.B.S. CONSTRUCTION, INC.</td>\n",
       "      <td>1</td>\n",
       "    </tr>\n",
       "    <tr>\n",
       "      <th>153</th>\n",
       "      <td>QINGJIAN GROUP CO., LTD. PHILIPPINE BRANCH</td>\n",
       "      <td>1</td>\n",
       "    </tr>\n",
       "    <tr>\n",
       "      <th>154</th>\n",
       "      <td>AKINTO MARKETING CORPORATION</td>\n",
       "      <td>1</td>\n",
       "    </tr>\n",
       "    <tr>\n",
       "      <th>155</th>\n",
       "      <td>CHINA INTERNATIONAL WATER AND ELECTRIC CORPORA...</td>\n",
       "      <td>1</td>\n",
       "    </tr>\n",
       "    <tr>\n",
       "      <th>156</th>\n",
       "      <td>TEKNIKOS REFRIGERATION AND AIRCONDITIONING SER...</td>\n",
       "      <td>1</td>\n",
       "    </tr>\n",
       "    <tr>\n",
       "      <th>157</th>\n",
       "      <td>MAXIMA MACHINERIES INC.</td>\n",
       "      <td>1</td>\n",
       "    </tr>\n",
       "    <tr>\n",
       "      <th>158</th>\n",
       "      <td>MMG GENERAL MERCHANDISE</td>\n",
       "      <td>1</td>\n",
       "    </tr>\n",
       "    <tr>\n",
       "      <th>159</th>\n",
       "      <td>KATAHIRA &amp; ENGINEERS INTERNATIONAL</td>\n",
       "      <td>1</td>\n",
       "    </tr>\n",
       "    <tr>\n",
       "      <th>160</th>\n",
       "      <td>GRACE CONSTRUCTION CORPORATION</td>\n",
       "      <td>1</td>\n",
       "    </tr>\n",
       "    <tr>\n",
       "      <th>161</th>\n",
       "      <td>HANJIN HEAVY INDUSTRIES &amp; CONSTRUCTION CO., LTD.</td>\n",
       "      <td>1</td>\n",
       "    </tr>\n",
       "    <tr>\n",
       "      <th>162</th>\n",
       "      <td>A.C. RIVERO DEVELOPMENT CORPORATION</td>\n",
       "      <td>1</td>\n",
       "    </tr>\n",
       "    <tr>\n",
       "      <th>163</th>\n",
       "      <td>NERA PHILIPPINES INC.</td>\n",
       "      <td>1</td>\n",
       "    </tr>\n",
       "    <tr>\n",
       "      <th>164</th>\n",
       "      <td>SARGASSO CONSTRUCTION AND DEVELOPMENT CORPORATION</td>\n",
       "      <td>1</td>\n",
       "    </tr>\n",
       "    <tr>\n",
       "      <th>165</th>\n",
       "      <td>CIRIACO CORPORATION</td>\n",
       "      <td>1</td>\n",
       "    </tr>\n",
       "    <tr>\n",
       "      <th>166</th>\n",
       "      <td>R.M. VITUG CONSTRUCTION</td>\n",
       "      <td>1</td>\n",
       "    </tr>\n",
       "    <tr>\n",
       "      <th>167</th>\n",
       "      <td>BREN MOTORS</td>\n",
       "      <td>1</td>\n",
       "    </tr>\n",
       "    <tr>\n",
       "      <th>168</th>\n",
       "      <td>AZITSOROG INCORPORATED</td>\n",
       "      <td>1</td>\n",
       "    </tr>\n",
       "    <tr>\n",
       "      <th>169</th>\n",
       "      <td>SAIDI SCHOOL OF ORGANIZATION DEVELOPMENT</td>\n",
       "      <td>1</td>\n",
       "    </tr>\n",
       "    <tr>\n",
       "      <th>170</th>\n",
       "      <td>TCGI ENGINEERS</td>\n",
       "      <td>1</td>\n",
       "    </tr>\n",
       "    <tr>\n",
       "      <th>171</th>\n",
       "      <td>MOUNT SINAI SCIENTIFIC AND PHARMACEUTICAL SUPPLY</td>\n",
       "      <td>1</td>\n",
       "    </tr>\n",
       "    <tr>\n",
       "      <th>172</th>\n",
       "      <td>E.S. PUA CONSTRUCTION</td>\n",
       "      <td>1</td>\n",
       "    </tr>\n",
       "    <tr>\n",
       "      <th>173</th>\n",
       "      <td>GEODATA SYSTEMS TECHNOLOGIES, INC.</td>\n",
       "      <td>1</td>\n",
       "    </tr>\n",
       "    <tr>\n",
       "      <th>174</th>\n",
       "      <td>KANEMATSU CORPORATION</td>\n",
       "      <td>1</td>\n",
       "    </tr>\n",
       "    <tr>\n",
       "      <th>175</th>\n",
       "      <td>KANE CONSTRUCTION, INC.</td>\n",
       "      <td>1</td>\n",
       "    </tr>\n",
       "    <tr>\n",
       "      <th>176</th>\n",
       "      <td>DJD CONSTRUCTION</td>\n",
       "      <td>1</td>\n",
       "    </tr>\n",
       "    <tr>\n",
       "      <th>177</th>\n",
       "      <td>K.O.B.S. CUSTOMERS FIRST TRADING INC.</td>\n",
       "      <td>1</td>\n",
       "    </tr>\n",
       "    <tr>\n",
       "      <th>178</th>\n",
       "      <td>COMMERCIAL FREIGHT SERVICES, INC.</td>\n",
       "      <td>1</td>\n",
       "    </tr>\n",
       "    <tr>\n",
       "      <th>179</th>\n",
       "      <td>ASIAN PEST CONTROL</td>\n",
       "      <td>1</td>\n",
       "    </tr>\n",
       "    <tr>\n",
       "      <th>180</th>\n",
       "      <td>KM3C TRADING</td>\n",
       "      <td>1</td>\n",
       "    </tr>\n",
       "    <tr>\n",
       "      <th>181</th>\n",
       "      <td>ARMANGEL MEDICAL EQUIPMENT SALES AND SERVICES</td>\n",
       "      <td>1</td>\n",
       "    </tr>\n",
       "    <tr>\n",
       "      <th>182</th>\n",
       "      <td>SILICON ELECTRICAL SUPPLY, INC.</td>\n",
       "      <td>1</td>\n",
       "    </tr>\n",
       "    <tr>\n",
       "      <th>183</th>\n",
       "      <td>TRADEMASTER RESOURCES CORPORATION</td>\n",
       "      <td>1</td>\n",
       "    </tr>\n",
       "    <tr>\n",
       "      <th>184</th>\n",
       "      <td>MAR-DEB CONSTRUCTION AND DEVELOPMENT</td>\n",
       "      <td>1</td>\n",
       "    </tr>\n",
       "    <tr>\n",
       "      <th>185</th>\n",
       "      <td>WOODFIELDS ENGINEERS COMPANY</td>\n",
       "      <td>1</td>\n",
       "    </tr>\n",
       "    <tr>\n",
       "      <th>186</th>\n",
       "      <td>V.O.M. TRADING</td>\n",
       "      <td>1</td>\n",
       "    </tr>\n",
       "    <tr>\n",
       "      <th>187</th>\n",
       "      <td>U-FIRST ENTERPRISES</td>\n",
       "      <td>1</td>\n",
       "    </tr>\n",
       "    <tr>\n",
       "      <th>188</th>\n",
       "      <td>SATRAP CONSTRUCTION CO., INC.</td>\n",
       "      <td>1</td>\n",
       "    </tr>\n",
       "    <tr>\n",
       "      <th>189</th>\n",
       "      <td>VICMAR CONSTRUCTION, INC.</td>\n",
       "      <td>1</td>\n",
       "    </tr>\n",
       "    <tr>\n",
       "      <th>190</th>\n",
       "      <td>AQUINO-DELA CRUZ ENGINEERING AND CONSTRUCTION</td>\n",
       "      <td>1</td>\n",
       "    </tr>\n",
       "    <tr>\n",
       "      <th>191</th>\n",
       "      <td>FIRST PACIFIC LEADERSHIP ACADEMY, INCORPORATED</td>\n",
       "      <td>1</td>\n",
       "    </tr>\n",
       "    <tr>\n",
       "      <th>192</th>\n",
       "      <td>CHAMPION HARDWARE &amp; CO., INC.</td>\n",
       "      <td>1</td>\n",
       "    </tr>\n",
       "    <tr>\n",
       "      <th>193</th>\n",
       "      <td>DEVELOPEMENT ENGINEERING AND MANAGEMENT CORP. ...</td>\n",
       "      <td>1</td>\n",
       "    </tr>\n",
       "    <tr>\n",
       "      <th>194</th>\n",
       "      <td>AUTOCIRCULO CORPORATION</td>\n",
       "      <td>1</td>\n",
       "    </tr>\n",
       "    <tr>\n",
       "      <th>195</th>\n",
       "      <td>MASANGKAY COMPUTER CENTER</td>\n",
       "      <td>1</td>\n",
       "    </tr>\n",
       "    <tr>\n",
       "      <th>196</th>\n",
       "      <td>E. A. SANCHO CONSTRUCTION, INC.</td>\n",
       "      <td>1</td>\n",
       "    </tr>\n",
       "    <tr>\n",
       "      <th>197</th>\n",
       "      <td>MBB CONSTRUCTION</td>\n",
       "      <td>1</td>\n",
       "    </tr>\n",
       "    <tr>\n",
       "      <th>198</th>\n",
       "      <td>MR. NORIEL CHRISTOPHER CANOS TIGLAO</td>\n",
       "      <td>1</td>\n",
       "    </tr>\n",
       "    <tr>\n",
       "      <th>199</th>\n",
       "      <td>B.C. CUERPO CONSTRUCTION CORP</td>\n",
       "      <td>1</td>\n",
       "    </tr>\n",
       "    <tr>\n",
       "      <th>200</th>\n",
       "      <td>SCHEMA ENGINEERS &amp; ASSOCIATES</td>\n",
       "      <td>1</td>\n",
       "    </tr>\n",
       "    <tr>\n",
       "      <th>201</th>\n",
       "      <td>CYTEL PHILIPPINES ENTERPRISES</td>\n",
       "      <td>1</td>\n",
       "    </tr>\n",
       "    <tr>\n",
       "      <th>202</th>\n",
       "      <td>R.TY GENERAL MERCHANDIZE CO.</td>\n",
       "      <td>1</td>\n",
       "    </tr>\n",
       "    <tr>\n",
       "      <th>203</th>\n",
       "      <td>KAMAHALAN PUBLISHING CORP.</td>\n",
       "      <td>1</td>\n",
       "    </tr>\n",
       "    <tr>\n",
       "      <th>204</th>\n",
       "      <td>QUIZAR ENTERPRISES</td>\n",
       "      <td>1</td>\n",
       "    </tr>\n",
       "    <tr>\n",
       "      <th>205</th>\n",
       "      <td>RITZ COMMERCIAL</td>\n",
       "      <td>1</td>\n",
       "    </tr>\n",
       "    <tr>\n",
       "      <th>206</th>\n",
       "      <td>PILIPINAS TELESERV, INC.</td>\n",
       "      <td>1</td>\n",
       "    </tr>\n",
       "    <tr>\n",
       "      <th>207</th>\n",
       "      <td>MAXIAIR CORPORATION</td>\n",
       "      <td>1</td>\n",
       "    </tr>\n",
       "    <tr>\n",
       "      <th>208</th>\n",
       "      <td>CHINA WUYI CO. LTD.</td>\n",
       "      <td>1</td>\n",
       "    </tr>\n",
       "    <tr>\n",
       "      <th>209</th>\n",
       "      <td>J-BROS CONSTRUCTION</td>\n",
       "      <td>1</td>\n",
       "    </tr>\n",
       "    <tr>\n",
       "      <th>210</th>\n",
       "      <td>ROYAL CROWN MONARCH CONSTRUCTION &amp; SUPPLIES CORP.</td>\n",
       "      <td>1</td>\n",
       "    </tr>\n",
       "    <tr>\n",
       "      <th>211</th>\n",
       "      <td>JORDAL MEDICAL SYSTEMS, INC.</td>\n",
       "      <td>1</td>\n",
       "    </tr>\n",
       "    <tr>\n",
       "      <th>212</th>\n",
       "      <td>BESSANG PASS SECURITY AGENCY, INC.</td>\n",
       "      <td>1</td>\n",
       "    </tr>\n",
       "    <tr>\n",
       "      <th>213</th>\n",
       "      <td>CUBIXOFFICE INC.</td>\n",
       "      <td>1</td>\n",
       "    </tr>\n",
       "    <tr>\n",
       "      <th>214</th>\n",
       "      <td>ACCEL PRIME TECHNOLOGIES INCORPORATED</td>\n",
       "      <td>1</td>\n",
       "    </tr>\n",
       "    <tr>\n",
       "      <th>215</th>\n",
       "      <td>SMDI CONSULTANTS, INC.</td>\n",
       "      <td>1</td>\n",
       "    </tr>\n",
       "    <tr>\n",
       "      <th>216</th>\n",
       "      <td>MUSTANG SECURITY AGENCY, INC</td>\n",
       "      <td>1</td>\n",
       "    </tr>\n",
       "    <tr>\n",
       "      <th>217</th>\n",
       "      <td>OPTIMAL SYSTEMS DISTRIBUTION, INC</td>\n",
       "      <td>1</td>\n",
       "    </tr>\n",
       "    <tr>\n",
       "      <th>218</th>\n",
       "      <td>SLITHOR ENTERPRISES INC.</td>\n",
       "      <td>1</td>\n",
       "    </tr>\n",
       "    <tr>\n",
       "      <th>219</th>\n",
       "      <td>DYNAMIC BUILDERS &amp; CONSTRUCTION CO.(PHIL.) INC.</td>\n",
       "      <td>1</td>\n",
       "    </tr>\n",
       "    <tr>\n",
       "      <th>220</th>\n",
       "      <td>RHINE MARKETING CORPORATION - MAKATI</td>\n",
       "      <td>1</td>\n",
       "    </tr>\n",
       "    <tr>\n",
       "      <th>221</th>\n",
       "      <td>SOLID BUSINESS MACHINES CENTER, INC.</td>\n",
       "      <td>1</td>\n",
       "    </tr>\n",
       "    <tr>\n",
       "      <th>222</th>\n",
       "      <td>J F CANCIO &amp; ASSOCIATES</td>\n",
       "      <td>1</td>\n",
       "    </tr>\n",
       "    <tr>\n",
       "      <th>223</th>\n",
       "      <td>HY-INTL UNLIMITED TRADING COMPANY</td>\n",
       "      <td>1</td>\n",
       "    </tr>\n",
       "    <tr>\n",
       "      <th>224</th>\n",
       "      <td>AA INTERIORS ENTERPRISES</td>\n",
       "      <td>1</td>\n",
       "    </tr>\n",
       "    <tr>\n",
       "      <th>225</th>\n",
       "      <td>RAM BUILDERS</td>\n",
       "      <td>1</td>\n",
       "    </tr>\n",
       "    <tr>\n",
       "      <th>226</th>\n",
       "      <td>BEST SHOT PRINTING</td>\n",
       "      <td>1</td>\n",
       "    </tr>\n",
       "    <tr>\n",
       "      <th>227</th>\n",
       "      <td>OPTIMAL INFRASTRUCTURE DEVELOPMENT, INC.</td>\n",
       "      <td>1</td>\n",
       "    </tr>\n",
       "    <tr>\n",
       "      <th>228</th>\n",
       "      <td>LAGING QLEAN JANITORIAL SERVICES, INC.</td>\n",
       "      <td>1</td>\n",
       "    </tr>\n",
       "    <tr>\n",
       "      <th>229</th>\n",
       "      <td>J2M2 AUTO PARTS CENTER</td>\n",
       "      <td>1</td>\n",
       "    </tr>\n",
       "    <tr>\n",
       "      <th>230</th>\n",
       "      <td>U-BIX CORPORATION - MAKATI</td>\n",
       "      <td>1</td>\n",
       "    </tr>\n",
       "    <tr>\n",
       "      <th>231</th>\n",
       "      <td>T.J. BAGUS FURNITURE &amp; GENERAL MERCHANDISE</td>\n",
       "      <td>1</td>\n",
       "    </tr>\n",
       "    <tr>\n",
       "      <th>232</th>\n",
       "      <td>THREE W BUILDERS, INC.</td>\n",
       "      <td>1</td>\n",
       "    </tr>\n",
       "    <tr>\n",
       "      <th>233</th>\n",
       "      <td>PRUDENCE MERCHANDISING, INC.</td>\n",
       "      <td>1</td>\n",
       "    </tr>\n",
       "    <tr>\n",
       "      <th>234</th>\n",
       "      <td>FILADAMS PHARMA, INC.</td>\n",
       "      <td>1</td>\n",
       "    </tr>\n",
       "    <tr>\n",
       "      <th>235</th>\n",
       "      <td>CAPITAL INDUSTRIES, INC.</td>\n",
       "      <td>1</td>\n",
       "    </tr>\n",
       "    <tr>\n",
       "      <th>236</th>\n",
       "      <td>MAN AUTOMOTIVE CONCESSIONAIRES CORPORATION</td>\n",
       "      <td>1</td>\n",
       "    </tr>\n",
       "    <tr>\n",
       "      <th>237</th>\n",
       "      <td>UNIVERSITY OF THE PHILIPPINES - DILIMAN</td>\n",
       "      <td>1</td>\n",
       "    </tr>\n",
       "    <tr>\n",
       "      <th>238</th>\n",
       "      <td>EDDMARI CONSTRUCTION &amp; TRADING</td>\n",
       "      <td>1</td>\n",
       "    </tr>\n",
       "    <tr>\n",
       "      <th>239</th>\n",
       "      <td>CENTER POINT SALES &amp; TRADING, INC.</td>\n",
       "      <td>1</td>\n",
       "    </tr>\n",
       "    <tr>\n",
       "      <th>240</th>\n",
       "      <td>TRIPLE 8 CONST. &amp; SUPPLY INC.</td>\n",
       "      <td>1</td>\n",
       "    </tr>\n",
       "    <tr>\n",
       "      <th>241</th>\n",
       "      <td>REVERE CONSTRUCTION &amp; SUPPLY CORPORATION – BAT...</td>\n",
       "      <td>1</td>\n",
       "    </tr>\n",
       "    <tr>\n",
       "      <th>242</th>\n",
       "      <td>ASTRAN MARKETING &amp; GENERAL CONTRACTOR, INCORPO...</td>\n",
       "      <td>1</td>\n",
       "    </tr>\n",
       "    <tr>\n",
       "      <th>243</th>\n",
       "      <td>CYCORE TECHNOLOGY SOLUTIONS CO. INC.</td>\n",
       "      <td>1</td>\n",
       "    </tr>\n",
       "    <tr>\n",
       "      <th>244</th>\n",
       "      <td>PANDACAN PETRON SERVICENTER</td>\n",
       "      <td>1</td>\n",
       "    </tr>\n",
       "    <tr>\n",
       "      <th>245</th>\n",
       "      <td>A.J. TAYLAN CONSTRUCTION CORPORATION</td>\n",
       "      <td>1</td>\n",
       "    </tr>\n",
       "    <tr>\n",
       "      <th>246</th>\n",
       "      <td>WILPER CONSTRUCTION, INC</td>\n",
       "      <td>1</td>\n",
       "    </tr>\n",
       "    <tr>\n",
       "      <th>247</th>\n",
       "      <td>TOYO CONSTRUCTION CO., LTD.</td>\n",
       "      <td>1</td>\n",
       "    </tr>\n",
       "    <tr>\n",
       "      <th>248</th>\n",
       "      <td>QUARTZ BUSINESS PRODUCTS CORPORATION</td>\n",
       "      <td>1</td>\n",
       "    </tr>\n",
       "  </tbody>\n",
       "</table>\n",
       "</div>"
      ],
      "text/plain": [
       "                                                 index  Awardee\n",
       "0                       FOXROD AUTO PARTS AND SERVICES       11\n",
       "1            CENTRAL LOCKWOOD HARDWARE AND LUMBER INC.       10\n",
       "2                                    NORTHERN BUILDERS        9\n",
       "3            P.T. DIAMOND MERCHANDISE AND CONSTRUCTION        8\n",
       "4                                COMPRENET ENTERPRISES        7\n",
       "5            BIOSPHERE CONSTRUCTION AND SUPPLIES, INC.        7\n",
       "6                   BENTIDEL ENTERPRISES AND DEVELOPER        6\n",
       "7               IKF HOME FURNISHING & OFFICE FURNITURE        6\n",
       "8                                GILCOR PRINTING PRESS        6\n",
       "9                                       MCSA MARKETING        6\n",
       "10        UNITED TECHNOLOGIES CONSOLIDATED PARTNERSHIP        5\n",
       "11                           PERTCONSULT INTERNATIONAL        5\n",
       "12                  R. D. INTERIOR JUNIOR CONSTRUCTION        5\n",
       "13                HP TRADING AND AIRCONDITIONING CORP.        5\n",
       "14                           J.D. LEGASPI CONSTRUCTION        5\n",
       "15                                     GENUINE TRADING        4\n",
       "16                             A. M. ORETA & CO., INC.        4\n",
       "17                   E.H. SISON ENGINEERS, CO. (EHSEC)        4\n",
       "18             GUARANTY HARDWARE & CONSTRUCTION SUPPLY        4\n",
       "19                            ENA POWER BUILDERS, INC.        4\n",
       "20                         O.R. SARMIENTO CONSTRUCTION        4\n",
       "21       HAIDEE CONSTRUCTION & DEVELOPMENT CORPORATION        4\n",
       "22                      MB MASTER SUPPLIES CORPORATION        4\n",
       "23                                       RENARDET S.A.        4\n",
       "24      TRI-GLOBE TRANSPORT SERVICES AND TRADING, INC.        4\n",
       "25                         VICENTE T. LAO CONSTRUCTION        4\n",
       "26                        GLOBAL MYOHO RENGE COPY INC.        3\n",
       "27                           L.R. TIQUI BUILDERS, INC.        3\n",
       "28                     EQUI-PARCO CONSTRUCTION COMPANY        3\n",
       "29                   LUZON SALES COMPANY, INCORPORATED        3\n",
       "30             CTI ENGINEERING INTERNATIONAL CO., LTD.        3\n",
       "31                         R.A. PAHATI GRAVEL AND SAND        3\n",
       "32                         NEW A. G. STYLIST FURNITURE        3\n",
       "33                                    BMK CONSTRUCTION        3\n",
       "34                         R.D. POLICARPIO & CO., INC.        3\n",
       "35                   INTEGRATED COMPUTER SYSTEMS, INC.        3\n",
       "36                           CIVIC MERCHANDISING, INC.        3\n",
       "37                                        NAIC TRADING        3\n",
       "38                                  YAKAL CONSTRUCTION        3\n",
       "39                            JQ TECH COMPUTER SERVICE        3\n",
       "40                         ELIAKIM GENERAL MERCHANDISE        3\n",
       "41                                  BSP & COMPANY INC.        3\n",
       "42                             CUSTOMERS FIRST TRADING        3\n",
       "43                      HI-TRI DEVELOPMENT CORPORATION        3\n",
       "44                              MICROBASE INCORPORATED        3\n",
       "45                     PACIFIC CONCRETE PRODUCTS, INC.        3\n",
       "46                          TOKWING CONSTRUCTION CORP.        3\n",
       "47                    M LACUESTA INTERNATIONAL TRADING        3\n",
       "48                                  FATMAN ENTERPRISES        2\n",
       "49                       ROQSON INDUSTRIAL SALES, INC.        2\n",
       "50                             FILPRIDE RESOURCES INC.        2\n",
       "51                           CHEMGATE INDUSTRIAL SALES        2\n",
       "52                        AKN CONSTRUCTION CORPORATION        2\n",
       "53                                    E.M. CUERPO INC.        2\n",
       "54              DEVELOPMENT ACADEMY OF THE PHILIPPINES        2\n",
       "55        HUNAN ROAD & BRIDGE CORPORATION PHIL. BRANCH        2\n",
       "56                        FOUNDATION SPECIALISTS, INC.        2\n",
       "57                                   ECH20 CORPORATION        2\n",
       "58                             CHINA HENAN SHUILI YIJU        2\n",
       "59                                   PRINT DEPOT, INC.        2\n",
       "60                                DEMCOR ENGINEERS CO.        2\n",
       "61    LEADWAY CONSTRUCTION AND DEVELOPMENT CORPORATION        2\n",
       "62                       FERDSTAR BUILDERS CONTRACTORS        2\n",
       "63                      GLOBAL INSTRUMENTS CORPORATION        2\n",
       "64                                        MAC BUILDERS        2\n",
       "65                   CHINA GEO-ENGINEERING CORPORATION        2\n",
       "66                   PHILWORKS CONSTRUCTION AND SUPPLY        2\n",
       "67               ZURBANO PUBLISHING AND PRINTING CORP.        2\n",
       "68                      WERR CORPORATION INTERNATIONAL        2\n",
       "69             JM AUTO PARTS & GENERAL MERCHANDISE CO.        2\n",
       "70                          FIAT CONSTRUCTION SERVICES        2\n",
       "71                           PROFILES ASIA PACIFIC INC        2\n",
       "72                                        HLYC TRADING        2\n",
       "73                                   XEFAR ENTERPRISES        2\n",
       "74                                     AARCON BUILDERS        2\n",
       "75                        MACRO CONSTRUCTION EQUIPMENT        2\n",
       "76                         LINK_NETWORK SOLUTIONS INC.        2\n",
       "77                    R.A. PAHATI CONST. & SUPPLY, INC        2\n",
       "78                        WORKSTATION DESIGNERS CENTER        2\n",
       "79                       CM RECTO AUTO SUPPLY CO., INC        2\n",
       "80                  ALLIED QUAD CONSTRUCTION & TRADING        2\n",
       "81                         ESR CONSTRUCTION & SUPPLIES        2\n",
       "82                    SHELLSOFT TECHNOLOGY CORPORATION        2\n",
       "83                            UDASCO HOUSE OF PRINTING        2\n",
       "84                               AIRFREIGHT 2100, INC.        2\n",
       "85                              ULTICON BUILDERS, INC.        2\n",
       "86                              MSB VITUG CONSTRUCTION        2\n",
       "87                        STANLEY BRADLEY TRADING INC.        2\n",
       "88                                     URBAN ENGINEERS        2\n",
       "89                            B. VICENCIO CONSTRUCTION        2\n",
       "90                               F.F. CRUZ & CO., INC.        2\n",
       "91                                   GENETIAN BUILDERS        1\n",
       "92   CAVDEAL - CAVITE IDEAL INTERNATIONAL CONSTRUCT...        1\n",
       "93                HEBEI ROAD AND BRIDGE GROUP CO., LTD        1\n",
       "94   MONOLITHIC CONSTRUCTION AND CONCRETE PRODUCTS,...        1\n",
       "95                         COSMOTECH PHILIPPINES, INC.        1\n",
       "96                    DESIGN CREST FURNITURE COMPONENT        1\n",
       "97                         STRAIGHTFORWARD ENTERPRISES        1\n",
       "98                               GAMMA LINE ENTERPRISE        1\n",
       "99                 R.S. SEPIAN CONSTRUCTION & TRUCKING        1\n",
       "100          ANGEL LAZARO AND ASSOCIATES INTERNATIONAL        1\n",
       "101                    DSB CONSTRUCTION & SUPPLY, INC.        1\n",
       "102                          2-R CONSTRUCTION & SUPPLY        1\n",
       "103                                  LP JACA MARKETING        1\n",
       "104                                     ROFMAN TRADING        1\n",
       "105                           GAKKEN PHILIPPINES, INC.        1\n",
       "106             CHRISTIAN IAN CONSTRUCTION CORPORATION        1\n",
       "107    DADOY FREIGHT SERVICE CONSTRUCTION &AMP; SUPPLY        1\n",
       "108                                     BSPH MARKETING        1\n",
       "109               BROSTAN CONSTRUCTION AND DEVELOPMENT        1\n",
       "110                WIDE WIDE WORLD EXPRESS CORPORATION        1\n",
       "111                                   GCI CONSTRUCTION        1\n",
       "112                                    UK OFFICE, INC.        1\n",
       "113  MONOLITHIC CONSTRUCTION AND CONCRETE PRODUCTS,...        1\n",
       "114          CIVIL SERVICE COMMISSION - CENTRAL OFFICE        1\n",
       "115                            OTUS COPY SYSTEMS, INC.        1\n",
       "116                           E. GARDIOLA CONSTRUCTION        1\n",
       "117                          P.B. DIONISIO & CO., INC.        1\n",
       "118                                      R. TY TRADING        1\n",
       "119                                ASAHI DESIGN CENTER        1\n",
       "120                            NBR GENERAL MERCHANDISE        1\n",
       "121                    E.C. DE LUNA CONSTRUCTION CORP.        1\n",
       "122                                   ZABU ENGINEERING        1\n",
       "123                            GETINSA INGENIERIA S.L.        1\n",
       "124                         A.P. PALACIOS CONSTRUCTION        1\n",
       "125                     C.M. PANCHO CONSTRUCTION, INC.        1\n",
       "126                  VERACITY SYNERGY SOLUTION'S, INC.        1\n",
       "127  CENTER FOR ENVIRONMENTAL STUDIES AND MANAGEMEN...        1\n",
       "128               CAMIA CONST. DEVELOPMENT CORPORATION        1\n",
       "129                               EXPLORER MOTORS INC.        1\n",
       "130                                   FUNCTIONAL, INC.        1\n",
       "131                                 EPLDT VENTUS, INC.        1\n",
       "132                                      KYRO BUILDERS        1\n",
       "133                            NEWBURG COMMERCIAL INC.        1\n",
       "134                             CELLTRON MARKETING CO.        1\n",
       "135                MCCD ENGINEERING SERVICES & TRADING        1\n",
       "136   FRANCISCO GLASS AND ALUMINUM SUPPLY AND SERVICES        1\n",
       "137  ASSOCIATED RESOURCES FOR MANAGEMENT AND DEVELO...        1\n",
       "138                   J. M. LUCIANO CONSTRUCTION, INC.        1\n",
       "139              UNLIMITED RESOURCE GROUP PHILS,. INC.        1\n",
       "140         PHILIPPINE LONG DISTANCE TELEPHONE COMPANY        1\n",
       "141            ATR MANUFACTURING & TRADING CORPORATION        1\n",
       "142                      DUROS DEVELOPMENT CORPORATION        1\n",
       "143                         PUMPCRAFT INDUSTRIAL SALES        1\n",
       "144                                  EC-TEC COMMERCIAL        1\n",
       "145                        INNOVE COMMUNICATIONS, INC.        1\n",
       "146                          LICHEL TECHNOLOGIES, INC.        1\n",
       "147             CARDNO EMERGING MARKETS PTY LTD (AUST)        1\n",
       "148                          NFH CONSTRUCTION & SUPPLY        1\n",
       "149         ALGON ENGINEERING CONSTRUCTION CORPORATION        1\n",
       "150                      BUSINESS MACHINES CORPORATION        1\n",
       "151                                    PALEENO AP .INC        1\n",
       "152                          J.B.S. CONSTRUCTION, INC.        1\n",
       "153         QINGJIAN GROUP CO., LTD. PHILIPPINE BRANCH        1\n",
       "154                       AKINTO MARKETING CORPORATION        1\n",
       "155  CHINA INTERNATIONAL WATER AND ELECTRIC CORPORA...        1\n",
       "156  TEKNIKOS REFRIGERATION AND AIRCONDITIONING SER...        1\n",
       "157                            MAXIMA MACHINERIES INC.        1\n",
       "158                            MMG GENERAL MERCHANDISE        1\n",
       "159                 KATAHIRA & ENGINEERS INTERNATIONAL        1\n",
       "160                     GRACE CONSTRUCTION CORPORATION        1\n",
       "161   HANJIN HEAVY INDUSTRIES & CONSTRUCTION CO., LTD.        1\n",
       "162                A.C. RIVERO DEVELOPMENT CORPORATION        1\n",
       "163                              NERA PHILIPPINES INC.        1\n",
       "164  SARGASSO CONSTRUCTION AND DEVELOPMENT CORPORATION        1\n",
       "165                                CIRIACO CORPORATION        1\n",
       "166                            R.M. VITUG CONSTRUCTION        1\n",
       "167                                        BREN MOTORS        1\n",
       "168                             AZITSOROG INCORPORATED        1\n",
       "169           SAIDI SCHOOL OF ORGANIZATION DEVELOPMENT        1\n",
       "170                                     TCGI ENGINEERS        1\n",
       "171   MOUNT SINAI SCIENTIFIC AND PHARMACEUTICAL SUPPLY        1\n",
       "172                              E.S. PUA CONSTRUCTION        1\n",
       "173                 GEODATA SYSTEMS TECHNOLOGIES, INC.        1\n",
       "174                              KANEMATSU CORPORATION        1\n",
       "175                            KANE CONSTRUCTION, INC.        1\n",
       "176                                   DJD CONSTRUCTION        1\n",
       "177              K.O.B.S. CUSTOMERS FIRST TRADING INC.        1\n",
       "178                  COMMERCIAL FREIGHT SERVICES, INC.        1\n",
       "179                                 ASIAN PEST CONTROL        1\n",
       "180                                       KM3C TRADING        1\n",
       "181      ARMANGEL MEDICAL EQUIPMENT SALES AND SERVICES        1\n",
       "182                    SILICON ELECTRICAL SUPPLY, INC.        1\n",
       "183                  TRADEMASTER RESOURCES CORPORATION        1\n",
       "184               MAR-DEB CONSTRUCTION AND DEVELOPMENT        1\n",
       "185                       WOODFIELDS ENGINEERS COMPANY        1\n",
       "186                                     V.O.M. TRADING        1\n",
       "187                                U-FIRST ENTERPRISES        1\n",
       "188                      SATRAP CONSTRUCTION CO., INC.        1\n",
       "189                          VICMAR CONSTRUCTION, INC.        1\n",
       "190      AQUINO-DELA CRUZ ENGINEERING AND CONSTRUCTION        1\n",
       "191     FIRST PACIFIC LEADERSHIP ACADEMY, INCORPORATED        1\n",
       "192                      CHAMPION HARDWARE & CO., INC.        1\n",
       "193  DEVELOPEMENT ENGINEERING AND MANAGEMENT CORP. ...        1\n",
       "194                            AUTOCIRCULO CORPORATION        1\n",
       "195                          MASANGKAY COMPUTER CENTER        1\n",
       "196                    E. A. SANCHO CONSTRUCTION, INC.        1\n",
       "197                                   MBB CONSTRUCTION        1\n",
       "198                MR. NORIEL CHRISTOPHER CANOS TIGLAO        1\n",
       "199                      B.C. CUERPO CONSTRUCTION CORP        1\n",
       "200                      SCHEMA ENGINEERS & ASSOCIATES        1\n",
       "201                      CYTEL PHILIPPINES ENTERPRISES        1\n",
       "202                       R.TY GENERAL MERCHANDIZE CO.        1\n",
       "203                         KAMAHALAN PUBLISHING CORP.        1\n",
       "204                                 QUIZAR ENTERPRISES        1\n",
       "205                                    RITZ COMMERCIAL        1\n",
       "206                           PILIPINAS TELESERV, INC.        1\n",
       "207                                MAXIAIR CORPORATION        1\n",
       "208                                CHINA WUYI CO. LTD.        1\n",
       "209                                J-BROS CONSTRUCTION        1\n",
       "210  ROYAL CROWN MONARCH CONSTRUCTION & SUPPLIES CORP.        1\n",
       "211                       JORDAL MEDICAL SYSTEMS, INC.        1\n",
       "212                 BESSANG PASS SECURITY AGENCY, INC.        1\n",
       "213                                   CUBIXOFFICE INC.        1\n",
       "214              ACCEL PRIME TECHNOLOGIES INCORPORATED        1\n",
       "215                             SMDI CONSULTANTS, INC.        1\n",
       "216                       MUSTANG SECURITY AGENCY, INC        1\n",
       "217                  OPTIMAL SYSTEMS DISTRIBUTION, INC        1\n",
       "218                           SLITHOR ENTERPRISES INC.        1\n",
       "219    DYNAMIC BUILDERS & CONSTRUCTION CO.(PHIL.) INC.        1\n",
       "220               RHINE MARKETING CORPORATION - MAKATI        1\n",
       "221               SOLID BUSINESS MACHINES CENTER, INC.        1\n",
       "222                            J F CANCIO & ASSOCIATES        1\n",
       "223                  HY-INTL UNLIMITED TRADING COMPANY        1\n",
       "224                           AA INTERIORS ENTERPRISES        1\n",
       "225                                       RAM BUILDERS        1\n",
       "226                                 BEST SHOT PRINTING        1\n",
       "227           OPTIMAL INFRASTRUCTURE DEVELOPMENT, INC.        1\n",
       "228             LAGING QLEAN JANITORIAL SERVICES, INC.        1\n",
       "229                             J2M2 AUTO PARTS CENTER        1\n",
       "230                         U-BIX CORPORATION - MAKATI        1\n",
       "231         T.J. BAGUS FURNITURE & GENERAL MERCHANDISE        1\n",
       "232                             THREE W BUILDERS, INC.        1\n",
       "233                       PRUDENCE MERCHANDISING, INC.        1\n",
       "234                              FILADAMS PHARMA, INC.        1\n",
       "235                           CAPITAL INDUSTRIES, INC.        1\n",
       "236         MAN AUTOMOTIVE CONCESSIONAIRES CORPORATION        1\n",
       "237            UNIVERSITY OF THE PHILIPPINES - DILIMAN        1\n",
       "238                     EDDMARI CONSTRUCTION & TRADING        1\n",
       "239                 CENTER POINT SALES & TRADING, INC.        1\n",
       "240                      TRIPLE 8 CONST. & SUPPLY INC.        1\n",
       "241  REVERE CONSTRUCTION & SUPPLY CORPORATION – BAT...        1\n",
       "242  ASTRAN MARKETING & GENERAL CONTRACTOR, INCORPO...        1\n",
       "243               CYCORE TECHNOLOGY SOLUTIONS CO. INC.        1\n",
       "244                        PANDACAN PETRON SERVICENTER        1\n",
       "245               A.J. TAYLAN CONSTRUCTION CORPORATION        1\n",
       "246                           WILPER CONSTRUCTION, INC        1\n",
       "247                        TOYO CONSTRUCTION CO., LTD.        1\n",
       "248               QUARTZ BUSINESS PRODUCTS CORPORATION        1"
      ]
     },
     "execution_count": 9,
     "metadata": {},
     "output_type": "execute_result"
    }
   ],
   "source": [
    "A_DPWH_Main.Awardee.value_counts().reset_index()"
   ]
  },
  {
   "cell_type": "markdown",
   "metadata": {},
   "source": [
    "### City of Las Pinas Awardees 2010-2013\n",
    "\n",
    "Awardees of DPWH Projects\n",
    "\n",
    "    E.M. ANGELES ENTERPRISES\t130\n",
    "    KME DESIGN AND CONSTRUCTION\t130\n",
    "    ARAC CONSTRUCTION\t71\n",
    "    EXEL CONCEPTS CORP.\t45\n",
    "    REDCAR TRADING AND CONSTRUCTION\t30\n",
    "    CYNDEL GENERAL CONTRACTOR\t20\n",
    "    NATHAN ENTERPRISES\t1\n",
    "    KME DESIGNS AND CONSTRUCTION\t5"
   ]
  },
  {
   "cell_type": "code",
   "execution_count": 10,
   "metadata": {
    "scrolled": true
   },
   "outputs": [
    {
     "data": {
      "text/html": [
       "<div>\n",
       "<style scoped>\n",
       "    .dataframe tbody tr th:only-of-type {\n",
       "        vertical-align: middle;\n",
       "    }\n",
       "\n",
       "    .dataframe tbody tr th {\n",
       "        vertical-align: top;\n",
       "    }\n",
       "\n",
       "    .dataframe thead th {\n",
       "        text-align: right;\n",
       "    }\n",
       "</style>\n",
       "<table border=\"1\" class=\"dataframe\">\n",
       "  <thead>\n",
       "    <tr style=\"text-align: right;\">\n",
       "      <th></th>\n",
       "      <th>index</th>\n",
       "      <th>Awardee</th>\n",
       "    </tr>\n",
       "  </thead>\n",
       "  <tbody>\n",
       "    <tr>\n",
       "      <th>0</th>\n",
       "      <td>E.M. ANGELES ENTERPRISES</td>\n",
       "      <td>15</td>\n",
       "    </tr>\n",
       "    <tr>\n",
       "      <th>1</th>\n",
       "      <td>ARAC CONSTRUCTION</td>\n",
       "      <td>13</td>\n",
       "    </tr>\n",
       "    <tr>\n",
       "      <th>2</th>\n",
       "      <td>REDCAR TRADING AND CONSTRUCTION</td>\n",
       "      <td>12</td>\n",
       "    </tr>\n",
       "    <tr>\n",
       "      <th>3</th>\n",
       "      <td>EXEL CONCEPTS CORP.</td>\n",
       "      <td>11</td>\n",
       "    </tr>\n",
       "    <tr>\n",
       "      <th>4</th>\n",
       "      <td>KME DESIGN AND CONSTRUCTION</td>\n",
       "      <td>8</td>\n",
       "    </tr>\n",
       "    <tr>\n",
       "      <th>5</th>\n",
       "      <td>CYNDEL GENERAL CONTRACTOR</td>\n",
       "      <td>8</td>\n",
       "    </tr>\n",
       "    <tr>\n",
       "      <th>6</th>\n",
       "      <td>NATHAN ENTERPRISES</td>\n",
       "      <td>1</td>\n",
       "    </tr>\n",
       "    <tr>\n",
       "      <th>7</th>\n",
       "      <td>KME DESIGNS AND CONSTRUCTION</td>\n",
       "      <td>1</td>\n",
       "    </tr>\n",
       "  </tbody>\n",
       "</table>\n",
       "</div>"
      ],
      "text/plain": [
       "                             index  Awardee\n",
       "0         E.M. ANGELES ENTERPRISES       15\n",
       "1                ARAC CONSTRUCTION       13\n",
       "2  REDCAR TRADING AND CONSTRUCTION       12\n",
       "3              EXEL CONCEPTS CORP.       11\n",
       "4      KME DESIGN AND CONSTRUCTION        8\n",
       "5        CYNDEL GENERAL CONTRACTOR        8\n",
       "6               NATHAN ENTERPRISES        1\n",
       "7     KME DESIGNS AND CONSTRUCTION        1"
      ]
     },
     "execution_count": 10,
     "metadata": {},
     "output_type": "execute_result"
    }
   ],
   "source": [
    "A_CLP.Awardee.value_counts().reset_index()"
   ]
  },
  {
   "cell_type": "code",
   "execution_count": 11,
   "metadata": {},
   "outputs": [],
   "source": [
    "A_CLP_EMAS = A_CLP[A_CLP.Awardee == 'E.M. ANGELES ENTERPRISES']\n",
    "A_CLP_ARAS = A_CLP[A_CLP.Awardee == 'ARAC CONSTRUCTION']\n",
    "A_CLP_REDS = A_CLP[A_CLP.Awardee == 'REDCAR TRADING AND CONSTRUCTION']\n",
    "A_CLP_EXES = A_CLP[A_CLP.Awardee == 'EXEL CONCEPTS CORP.']\n",
    "A_CLP_KMES = A_CLP[A_CLP.Awardee == 'KME DESIGN AND CONSTRUCTION']\n",
    "A_CLP_CYNS = A_CLP[A_CLP.Awardee == 'CYNDEL GENERAL CONTRACTOR']\n",
    "A_CLP_NATS = A_CLP[A_CLP.Awardee == 'NATHAN ENTERPRISES']\n",
    "A_CLP_KMESS = A_CLP[A_CLP.Awardee == 'KME DESIGNS AND CONSTRUCTION']"
   ]
  },
  {
   "cell_type": "code",
   "execution_count": 12,
   "metadata": {},
   "outputs": [
    {
     "data": {
      "text/plain": [
       "130"
      ]
     },
     "execution_count": 12,
     "metadata": {},
     "output_type": "execute_result"
    }
   ],
   "source": [
    "A_CLP_EMAS.Number_of_Projects.sum()"
   ]
  },
  {
   "cell_type": "code",
   "execution_count": 13,
   "metadata": {},
   "outputs": [
    {
     "data": {
      "text/plain": [
       "20"
      ]
     },
     "execution_count": 13,
     "metadata": {},
     "output_type": "execute_result"
    }
   ],
   "source": [
    "A_CLP_KMES.Number_of_Projects.sum()"
   ]
  },
  {
   "cell_type": "code",
   "execution_count": 14,
   "metadata": {},
   "outputs": [
    {
     "data": {
      "text/plain": [
       "71"
      ]
     },
     "execution_count": 14,
     "metadata": {},
     "output_type": "execute_result"
    }
   ],
   "source": [
    "A_CLP_ARAS.Number_of_Projects.sum()"
   ]
  },
  {
   "cell_type": "code",
   "execution_count": 15,
   "metadata": {},
   "outputs": [
    {
     "data": {
      "text/plain": [
       "45"
      ]
     },
     "execution_count": 15,
     "metadata": {},
     "output_type": "execute_result"
    }
   ],
   "source": [
    "A_CLP_EXES.Number_of_Projects.sum()"
   ]
  },
  {
   "cell_type": "code",
   "execution_count": 16,
   "metadata": {},
   "outputs": [
    {
     "data": {
      "text/plain": [
       "30"
      ]
     },
     "execution_count": 16,
     "metadata": {},
     "output_type": "execute_result"
    }
   ],
   "source": [
    "A_CLP_REDS.Number_of_Projects.sum()"
   ]
  },
  {
   "cell_type": "code",
   "execution_count": 17,
   "metadata": {},
   "outputs": [
    {
     "data": {
      "text/plain": [
       "20"
      ]
     },
     "execution_count": 17,
     "metadata": {},
     "output_type": "execute_result"
    }
   ],
   "source": [
    "A_CLP_CYNS.Number_of_Projects.sum()"
   ]
  },
  {
   "cell_type": "code",
   "execution_count": 18,
   "metadata": {},
   "outputs": [
    {
     "data": {
      "text/plain": [
       "5"
      ]
     },
     "execution_count": 18,
     "metadata": {},
     "output_type": "execute_result"
    }
   ],
   "source": [
    "A_CLP_KMESS.Number_of_Projects.sum()"
   ]
  },
  {
   "cell_type": "code",
   "execution_count": 19,
   "metadata": {},
   "outputs": [
    {
     "data": {
      "text/plain": [
       "1"
      ]
     },
     "execution_count": 19,
     "metadata": {},
     "output_type": "execute_result"
    }
   ],
   "source": [
    "A_CLP_NATS.Number_of_Projects.sum()"
   ]
  },
  {
   "cell_type": "markdown",
   "metadata": {},
   "source": [
    "## Procurement Mode\n",
    "\n",
    "    Public Bidding                                                           567\n",
    "    Shopping                                                                 299\n",
    "    International Competitive Bidding                                         39\n",
    "    Negotiated Procurement                                                    11\n",
    "    Direct Contracting (Sec. 50)                                               9\n",
    "    Negotiated Procurement - Agency to Agency (Sec. 53.5)                      4\n",
    "    Negotiated Procurement - Emergency Cases (Sec. 53.2)                       2\n",
    "    Negotiated Procurement - Two Failed Biddings (Sec. 53.1)                   1\n",
    "    Shopping - Ordinary/Regular Office Supplies & Equipment (Sec. 52.1.b)      1\n",
    "    Negotiated Procurement - Highly Technical Consultants (Sec. 53.7)          1\n",
    "    National Competitive Bidding                                               1"
   ]
  },
  {
   "cell_type": "code",
   "execution_count": 20,
   "metadata": {},
   "outputs": [
    {
     "name": "stdout",
     "output_type": "stream",
     "text": [
      "<class 'pandas.core.frame.DataFrame'>\n",
      "RangeIndex: 78 entries, 0 to 77\n",
      "Data columns (total 5 columns):\n",
      "Organization_Name    78 non-null object\n",
      "Quarter              78 non-null object\n",
      "Year                 78 non-null int64\n",
      "Procurement_Mode     76 non-null object\n",
      "Number               76 non-null float64\n",
      "dtypes: float64(1), int64(1), object(3)\n",
      "memory usage: 2.2+ KB\n"
     ]
    }
   ],
   "source": [
    "PMode.info()"
   ]
  },
  {
   "cell_type": "code",
   "execution_count": 21,
   "metadata": {},
   "outputs": [
    {
     "data": {
      "text/plain": [
       "Public Bidding                                                           31\n",
       "Shopping                                                                 15\n",
       "International Competitive Bidding                                        10\n",
       "Direct Contracting (Sec. 50)                                              6\n",
       "Negotiated Procurement                                                    5\n",
       "Negotiated Procurement - Agency to Agency (Sec. 53.5)                     4\n",
       "Negotiated Procurement - Emergency Cases (Sec. 53.2)                      1\n",
       "Negotiated Procurement - Two Failed Biddings (Sec. 53.1)                  1\n",
       "Shopping - Ordinary/Regular Office Supplies & Equipment (Sec. 52.1.b)     1\n",
       "Negotiated Procurement - Highly Technical Consultants (Sec. 53.7)         1\n",
       "National Competitive Bidding                                              1\n",
       "Name: Procurement_Mode, dtype: int64"
      ]
     },
     "execution_count": 21,
     "metadata": {},
     "output_type": "execute_result"
    }
   ],
   "source": [
    "PMode.Procurement_Mode.value_counts()"
   ]
  },
  {
   "cell_type": "code",
   "execution_count": 22,
   "metadata": {},
   "outputs": [],
   "source": [
    "PMode_PBS = PMode[PMode.Procurement_Mode == 'Public Bidding']\n",
    "PMode_SS = PMode[PMode.Procurement_Mode == 'Shopping']\n",
    "PMode_ICBS = PMode[PMode.Procurement_Mode == 'International Competitive Bidding']\n",
    "PMode_DCS = PMode[PMode.Procurement_Mode == 'Direct Contracting (Sec. 50)']\n",
    "PMode_NPS = PMode[PMode.Procurement_Mode == 'Negotiated Procurement']\n",
    "PMode_NPAS = PMode[PMode.Procurement_Mode == 'Negotiated Procurement - Agency to Agency (Sec. 53.5)']\n",
    "PMode_NPES = PMode[PMode.Procurement_Mode == 'Negotiated Procurement - Emergency Cases (Sec. 53.2)']\n",
    "PMode_NPTS = PMode[PMode.Procurement_Mode == 'Negotiated Procurement - Two Failed Biddings (Sec. 53.1)']\n",
    "PMode_SOS = PMode[PMode.Procurement_Mode == 'Shopping - Ordinary/Regular Office Supplies & Equipment (Sec. 52.1.b)']\n",
    "PMode_NPHS = PMode[PMode.Procurement_Mode == 'Negotiated Procurement - Highly Technical Consultants (Sec. 53.7)']\n",
    "PMode_NCBS = PMode[PMode.Procurement_Mode == 'National Competitive Bidding']"
   ]
  },
  {
   "cell_type": "code",
   "execution_count": 23,
   "metadata": {},
   "outputs": [
    {
     "data": {
      "text/plain": [
       "567.0"
      ]
     },
     "execution_count": 23,
     "metadata": {},
     "output_type": "execute_result"
    }
   ],
   "source": [
    "PMode_PBS.Number.sum()"
   ]
  },
  {
   "cell_type": "code",
   "execution_count": 24,
   "metadata": {},
   "outputs": [
    {
     "data": {
      "text/plain": [
       "299.0"
      ]
     },
     "execution_count": 24,
     "metadata": {},
     "output_type": "execute_result"
    }
   ],
   "source": [
    "PMode_SS.Number.sum()"
   ]
  },
  {
   "cell_type": "code",
   "execution_count": 25,
   "metadata": {},
   "outputs": [
    {
     "data": {
      "text/plain": [
       "39.0"
      ]
     },
     "execution_count": 25,
     "metadata": {},
     "output_type": "execute_result"
    }
   ],
   "source": [
    "PMode_ICBS.Number.sum()"
   ]
  },
  {
   "cell_type": "code",
   "execution_count": 26,
   "metadata": {},
   "outputs": [
    {
     "data": {
      "text/plain": [
       "11.0"
      ]
     },
     "execution_count": 26,
     "metadata": {},
     "output_type": "execute_result"
    }
   ],
   "source": [
    "PMode_NPS.Number.sum()"
   ]
  },
  {
   "cell_type": "code",
   "execution_count": 27,
   "metadata": {},
   "outputs": [
    {
     "data": {
      "text/plain": [
       "9.0"
      ]
     },
     "execution_count": 27,
     "metadata": {},
     "output_type": "execute_result"
    }
   ],
   "source": [
    "PMode_DCS.Number.sum()"
   ]
  },
  {
   "cell_type": "code",
   "execution_count": 28,
   "metadata": {},
   "outputs": [
    {
     "data": {
      "text/plain": [
       "4.0"
      ]
     },
     "execution_count": 28,
     "metadata": {},
     "output_type": "execute_result"
    }
   ],
   "source": [
    "PMode_NPAS.Number.sum()"
   ]
  },
  {
   "cell_type": "code",
   "execution_count": 29,
   "metadata": {},
   "outputs": [
    {
     "data": {
      "text/plain": [
       "2.0"
      ]
     },
     "execution_count": 29,
     "metadata": {},
     "output_type": "execute_result"
    }
   ],
   "source": [
    "PMode_NPES.Number.sum()"
   ]
  },
  {
   "cell_type": "code",
   "execution_count": 30,
   "metadata": {},
   "outputs": [
    {
     "data": {
      "text/plain": [
       "1.0"
      ]
     },
     "execution_count": 30,
     "metadata": {},
     "output_type": "execute_result"
    }
   ],
   "source": [
    "PMode_NPTS.Number.sum()"
   ]
  },
  {
   "cell_type": "code",
   "execution_count": 31,
   "metadata": {},
   "outputs": [
    {
     "data": {
      "text/plain": [
       "1.0"
      ]
     },
     "execution_count": 31,
     "metadata": {},
     "output_type": "execute_result"
    }
   ],
   "source": [
    "PMode_SOS.Number.sum()"
   ]
  },
  {
   "cell_type": "code",
   "execution_count": 32,
   "metadata": {},
   "outputs": [
    {
     "data": {
      "text/plain": [
       "1.0"
      ]
     },
     "execution_count": 32,
     "metadata": {},
     "output_type": "execute_result"
    }
   ],
   "source": [
    "PMode_NPHS.Number.sum()"
   ]
  },
  {
   "cell_type": "code",
   "execution_count": 33,
   "metadata": {},
   "outputs": [
    {
     "data": {
      "text/plain": [
       "1.0"
      ]
     },
     "execution_count": 33,
     "metadata": {},
     "output_type": "execute_result"
    }
   ],
   "source": [
    "PMode_NCBS.Number.sum()"
   ]
  },
  {
   "cell_type": "code",
   "execution_count": 34,
   "metadata": {},
   "outputs": [
    {
     "data": {
      "text/html": [
       "<div>\n",
       "<style scoped>\n",
       "    .dataframe tbody tr th:only-of-type {\n",
       "        vertical-align: middle;\n",
       "    }\n",
       "\n",
       "    .dataframe tbody tr th {\n",
       "        vertical-align: top;\n",
       "    }\n",
       "\n",
       "    .dataframe thead th {\n",
       "        text-align: right;\n",
       "    }\n",
       "</style>\n",
       "<table border=\"1\" class=\"dataframe\">\n",
       "  <thead>\n",
       "    <tr style=\"text-align: right;\">\n",
       "      <th></th>\n",
       "      <th>index</th>\n",
       "      <th>Organization_Name</th>\n",
       "    </tr>\n",
       "  </thead>\n",
       "  <tbody>\n",
       "    <tr>\n",
       "      <th>0</th>\n",
       "      <td>DPWH Main</td>\n",
       "      <td>63</td>\n",
       "    </tr>\n",
       "    <tr>\n",
       "      <th>1</th>\n",
       "      <td>City of Las Pinas</td>\n",
       "      <td>15</td>\n",
       "    </tr>\n",
       "  </tbody>\n",
       "</table>\n",
       "</div>"
      ],
      "text/plain": [
       "               index  Organization_Name\n",
       "0          DPWH Main                 63\n",
       "1  City of Las Pinas                 15"
      ]
     },
     "execution_count": 34,
     "metadata": {},
     "output_type": "execute_result"
    }
   ],
   "source": [
    "PMode.Organization_Name.value_counts().reset_index()"
   ]
  },
  {
   "cell_type": "markdown",
   "metadata": {},
   "source": [
    "### DPWH Main Procurement Mode\n",
    "\n",
    "    Public Bidding                                                           245\n",
    "    Shopping                                                                 299\n",
    "    International Competitive Bidding                                         39\n",
    "    Negotiated Procurement                                                    11\n",
    "    Direct Contracting (Sec. 50)                                               9\n",
    "    Negotiated Procurement - Agency to Agency (Sec. 53.5)                      4\n",
    "    Negotiated Procurement - Emergency Cases (Sec. 53.2)                       2\n",
    "    Negotiated Procurement - Two Failed Biddings (Sec. 53.1)                   1\n",
    "    Shopping - Ordinary/Regular Office Supplies & Equipment (Sec. 52.1.b)      1\n",
    "    Negotiated Procurement - Highly Technical Consultants (Sec. 53.7)          1\n",
    "    National Competitive Bidding                                               1"
   ]
  },
  {
   "cell_type": "code",
   "execution_count": 35,
   "metadata": {},
   "outputs": [],
   "source": [
    "P_DPWH_Main = PMode[PMode.Organization_Name == 'DPWH Main']"
   ]
  },
  {
   "cell_type": "code",
   "execution_count": 36,
   "metadata": {},
   "outputs": [],
   "source": [
    "P_CLP = PMode[PMode.Organization_Name == 'City of Las Pinas']"
   ]
  },
  {
   "cell_type": "code",
   "execution_count": 37,
   "metadata": {},
   "outputs": [
    {
     "data": {
      "text/plain": [
       "Public Bidding                                                           16\n",
       "Shopping                                                                 15\n",
       "International Competitive Bidding                                        10\n",
       "Direct Contracting (Sec. 50)                                              6\n",
       "Negotiated Procurement                                                    5\n",
       "Negotiated Procurement - Agency to Agency (Sec. 53.5)                     4\n",
       "Negotiated Procurement - Emergency Cases (Sec. 53.2)                      1\n",
       "Negotiated Procurement - Two Failed Biddings (Sec. 53.1)                  1\n",
       "Shopping - Ordinary/Regular Office Supplies & Equipment (Sec. 52.1.b)     1\n",
       "Negotiated Procurement - Highly Technical Consultants (Sec. 53.7)         1\n",
       "National Competitive Bidding                                              1\n",
       "Name: Procurement_Mode, dtype: int64"
      ]
     },
     "execution_count": 37,
     "metadata": {},
     "output_type": "execute_result"
    }
   ],
   "source": [
    "P_DPWH_Main.Procurement_Mode.value_counts()"
   ]
  },
  {
   "cell_type": "code",
   "execution_count": 38,
   "metadata": {},
   "outputs": [],
   "source": [
    "P_DPWH_Main_PBS = P_DPWH_Main[P_DPWH_Main.Procurement_Mode == 'Public Bidding']\n",
    "P_DPWH_Main_SS = P_DPWH_Main[P_DPWH_Main.Procurement_Mode == 'Shopping']\n",
    "P_DPWH_Main_ICBS = P_DPWH_Main[P_DPWH_Main.Procurement_Mode == 'International Competitive Bidding']\n",
    "P_DPWH_Main_DCS = P_DPWH_Main[P_DPWH_Main.Procurement_Mode == 'Direct Contracting (Sec. 50)']\n",
    "P_DPWH_Main_NPS = P_DPWH_Main[P_DPWH_Main.Procurement_Mode == 'Negotiated Procurement']\n",
    "P_DPWH_Main_NPAS = P_DPWH_Main[P_DPWH_Main.Procurement_Mode == 'Negotiated Procurement - Agency to Agency (Sec. 53.5)']\n",
    "P_DPWH_Main_NPES = P_DPWH_Main[P_DPWH_Main.Procurement_Mode == 'Negotiated Procurement - Emergency Cases (Sec. 53.2)']\n",
    "P_DPWH_Main_NPTS = P_DPWH_Main[P_DPWH_Main.Procurement_Mode == 'Negotiated Procurement - Two Failed Biddings (Sec. 53.1)']\n",
    "P_DPWH_Main_SOS = P_DPWH_Main[P_DPWH_Main.Procurement_Mode == 'Shopping - Ordinary/Regular Office Supplies & Equipment (Sec. 52.1.b)']\n",
    "P_DPWH_Main_NPHS = P_DPWH_Main[P_DPWH_Main.Procurement_Mode == 'Negotiated Procurement - Highly Technical Consultants (Sec. 53.7)']\n",
    "P_DPWH_Main_NCBS = P_DPWH_Main[P_DPWH_Main.Procurement_Mode == 'National Competitive Bidding']"
   ]
  },
  {
   "cell_type": "code",
   "execution_count": 39,
   "metadata": {},
   "outputs": [
    {
     "data": {
      "text/plain": [
       "245.0"
      ]
     },
     "execution_count": 39,
     "metadata": {},
     "output_type": "execute_result"
    }
   ],
   "source": [
    "P_DPWH_Main_PBS.Number.sum()"
   ]
  },
  {
   "cell_type": "code",
   "execution_count": 40,
   "metadata": {},
   "outputs": [
    {
     "data": {
      "text/plain": [
       "299.0"
      ]
     },
     "execution_count": 40,
     "metadata": {},
     "output_type": "execute_result"
    }
   ],
   "source": [
    "P_DPWH_Main_SS.Number.sum()"
   ]
  },
  {
   "cell_type": "code",
   "execution_count": 41,
   "metadata": {},
   "outputs": [
    {
     "data": {
      "text/plain": [
       "39.0"
      ]
     },
     "execution_count": 41,
     "metadata": {},
     "output_type": "execute_result"
    }
   ],
   "source": [
    "P_DPWH_Main_ICBS.Number.sum()"
   ]
  },
  {
   "cell_type": "code",
   "execution_count": 42,
   "metadata": {},
   "outputs": [
    {
     "data": {
      "text/plain": [
       "9.0"
      ]
     },
     "execution_count": 42,
     "metadata": {},
     "output_type": "execute_result"
    }
   ],
   "source": [
    "P_DPWH_Main_DCS.Number.sum()"
   ]
  },
  {
   "cell_type": "code",
   "execution_count": 43,
   "metadata": {},
   "outputs": [
    {
     "data": {
      "text/plain": [
       "11.0"
      ]
     },
     "execution_count": 43,
     "metadata": {},
     "output_type": "execute_result"
    }
   ],
   "source": [
    "P_DPWH_Main_NPS.Number.sum()"
   ]
  },
  {
   "cell_type": "code",
   "execution_count": 44,
   "metadata": {},
   "outputs": [
    {
     "data": {
      "text/plain": [
       "4.0"
      ]
     },
     "execution_count": 44,
     "metadata": {},
     "output_type": "execute_result"
    }
   ],
   "source": [
    "P_DPWH_Main_NPAS.Number.sum()"
   ]
  },
  {
   "cell_type": "code",
   "execution_count": 45,
   "metadata": {},
   "outputs": [
    {
     "data": {
      "text/plain": [
       "2.0"
      ]
     },
     "execution_count": 45,
     "metadata": {},
     "output_type": "execute_result"
    }
   ],
   "source": [
    "P_DPWH_Main_NPES.Number.sum()"
   ]
  },
  {
   "cell_type": "code",
   "execution_count": 46,
   "metadata": {},
   "outputs": [
    {
     "data": {
      "text/plain": [
       "1.0"
      ]
     },
     "execution_count": 46,
     "metadata": {},
     "output_type": "execute_result"
    }
   ],
   "source": [
    "P_DPWH_Main_NPTS.Number.sum()"
   ]
  },
  {
   "cell_type": "code",
   "execution_count": 47,
   "metadata": {},
   "outputs": [
    {
     "data": {
      "text/plain": [
       "1.0"
      ]
     },
     "execution_count": 47,
     "metadata": {},
     "output_type": "execute_result"
    }
   ],
   "source": [
    "P_DPWH_Main_SOS.Number.sum()"
   ]
  },
  {
   "cell_type": "code",
   "execution_count": 48,
   "metadata": {},
   "outputs": [
    {
     "data": {
      "text/plain": [
       "1.0"
      ]
     },
     "execution_count": 48,
     "metadata": {},
     "output_type": "execute_result"
    }
   ],
   "source": [
    "P_DPWH_Main_NPHS.Number.sum()"
   ]
  },
  {
   "cell_type": "code",
   "execution_count": 49,
   "metadata": {},
   "outputs": [
    {
     "data": {
      "text/plain": [
       "1.0"
      ]
     },
     "execution_count": 49,
     "metadata": {},
     "output_type": "execute_result"
    }
   ],
   "source": [
    "P_DPWH_Main_NCBS.Number.sum()"
   ]
  },
  {
   "cell_type": "markdown",
   "metadata": {},
   "source": [
    "### City of Las Pinas Procurement Mode\n",
    "\n",
    "    Public Bidding    322"
   ]
  },
  {
   "cell_type": "code",
   "execution_count": 50,
   "metadata": {},
   "outputs": [
    {
     "data": {
      "text/plain": [
       "Public Bidding    15\n",
       "Name: Procurement_Mode, dtype: int64"
      ]
     },
     "execution_count": 50,
     "metadata": {},
     "output_type": "execute_result"
    }
   ],
   "source": [
    "P_CLP.Procurement_Mode.value_counts()"
   ]
  },
  {
   "cell_type": "code",
   "execution_count": 51,
   "metadata": {},
   "outputs": [],
   "source": [
    "P_CLP_PP = P_CLP[P_CLP.Procurement_Mode == 'Public Bidding']"
   ]
  },
  {
   "cell_type": "code",
   "execution_count": 52,
   "metadata": {},
   "outputs": [
    {
     "data": {
      "text/plain": [
       "322.0"
      ]
     },
     "execution_count": 52,
     "metadata": {},
     "output_type": "execute_result"
    }
   ],
   "source": [
    "P_CLP_PP.Number.sum()"
   ]
  },
  {
   "cell_type": "code",
   "execution_count": null,
   "metadata": {},
   "outputs": [],
   "source": []
  }
 ],
 "metadata": {
  "kernelspec": {
   "display_name": "Python 2",
   "language": "python",
   "name": "python2"
  },
  "language_info": {
   "codemirror_mode": {
    "name": "ipython",
    "version": 2
   },
   "file_extension": ".py",
   "mimetype": "text/x-python",
   "name": "python",
   "nbconvert_exporter": "python",
   "pygments_lexer": "ipython2",
   "version": "2.7.13"
  }
 },
 "nbformat": 4,
 "nbformat_minor": 2
}
