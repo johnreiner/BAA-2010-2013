{
 "cells": [
  {
   "cell_type": "code",
   "execution_count": 1,
   "metadata": {},
   "outputs": [],
   "source": [
    "import pandas as pd\n",
    "import numpy as np"
   ]
  },
  {
   "cell_type": "code",
   "execution_count": 2,
   "metadata": {},
   "outputs": [],
   "source": [
    "pd.options.display.max_columns = None\n",
    "pd.options.display.max_rows = None"
   ]
  },
  {
   "cell_type": "code",
   "execution_count": 3,
   "metadata": {},
   "outputs": [],
   "source": [
    "Awardees = pd.read_excel(\"C:/Users/wolfgang/Documents/Work/DPWH/PhilGEPS Data/Procurement Data 2010-2013 Awardees.xlsx\")"
   ]
  },
  {
   "cell_type": "code",
   "execution_count": 4,
   "metadata": {},
   "outputs": [],
   "source": [
    "PMode = pd.read_excel(\"C:/Users/wolfgang/Documents/Work/DPWH/PhilGEPS Data/Procurement Data 2010-2013 Procurement Mode.xlsx\")"
   ]
  },
  {
   "cell_type": "markdown",
   "metadata": {},
   "source": [
    "## Awardees"
   ]
  },
  {
   "cell_type": "code",
   "execution_count": 5,
   "metadata": {},
   "outputs": [
    {
     "name": "stdout",
     "output_type": "stream",
     "text": [
      "<class 'pandas.core.frame.DataFrame'>\n",
      "RangeIndex: 524 entries, 0 to 523\n",
      "Data columns (total 5 columns):\n",
      "Organization_Name     524 non-null object\n",
      "Quarter               524 non-null object\n",
      "Year                  524 non-null int64\n",
      "Awardee               524 non-null object\n",
      "Number_of_Projects    524 non-null int64\n",
      "dtypes: int64(2), object(3)\n",
      "memory usage: 14.4+ KB\n"
     ]
    }
   ],
   "source": [
    "Awardees.info()"
   ]
  },
  {
   "cell_type": "code",
   "execution_count": 6,
   "metadata": {},
   "outputs": [
    {
     "data": {
      "text/html": [
       "<div>\n",
       "<style scoped>\n",
       "    .dataframe tbody tr th:only-of-type {\n",
       "        vertical-align: middle;\n",
       "    }\n",
       "\n",
       "    .dataframe tbody tr th {\n",
       "        vertical-align: top;\n",
       "    }\n",
       "\n",
       "    .dataframe thead th {\n",
       "        text-align: right;\n",
       "    }\n",
       "</style>\n",
       "<table border=\"1\" class=\"dataframe\">\n",
       "  <thead>\n",
       "    <tr style=\"text-align: right;\">\n",
       "      <th></th>\n",
       "      <th>index</th>\n",
       "      <th>Organization_Name</th>\n",
       "    </tr>\n",
       "  </thead>\n",
       "  <tbody>\n",
       "    <tr>\n",
       "      <th>0</th>\n",
       "      <td>DPWH Main</td>\n",
       "      <td>455</td>\n",
       "    </tr>\n",
       "    <tr>\n",
       "      <th>1</th>\n",
       "      <td>City of Las Pinas</td>\n",
       "      <td>69</td>\n",
       "    </tr>\n",
       "  </tbody>\n",
       "</table>\n",
       "</div>"
      ],
      "text/plain": [
       "               index  Organization_Name\n",
       "0          DPWH Main                455\n",
       "1  City of Las Pinas                 69"
      ]
     },
     "execution_count": 6,
     "metadata": {},
     "output_type": "execute_result"
    }
   ],
   "source": [
    "Awardees.Organization_Name.value_counts().reset_index()"
   ]
  },
  {
   "cell_type": "code",
   "execution_count": 7,
   "metadata": {},
   "outputs": [],
   "source": [
    "A_DPWH_Main = Awardees[Awardees.Organization_Name == 'DPWH Main']"
   ]
  },
  {
   "cell_type": "code",
   "execution_count": 8,
   "metadata": {},
   "outputs": [],
   "source": [
    "A_CLP = Awardees[Awardees.Organization_Name == 'City of Las Pinas']"
   ]
  },
  {
   "cell_type": "markdown",
   "metadata": {},
   "source": [
    "### DPWH Awardees 2010-2013\n",
    "\n",
    "Awardees of DPWH Projects"
   ]
  },
  {
   "cell_type": "code",
   "execution_count": 53,
   "metadata": {
    "scrolled": true
   },
   "outputs": [
    {
     "data": {
      "text/plain": [
       "FOXROD AUTO PARTS AND SERVICES                                           11\n",
       "CENTRAL LOCKWOOD HARDWARE AND LUMBER INC.                                10\n",
       "NORTHERN BUILDERS                                                         9\n",
       "P.T. DIAMOND MERCHANDISE AND CONSTRUCTION                                 8\n",
       "COMPRENET ENTERPRISES                                                     7\n",
       "BIOSPHERE CONSTRUCTION AND SUPPLIES, INC.                                 7\n",
       "BENTIDEL ENTERPRISES AND DEVELOPER                                        6\n",
       "IKF HOME FURNISHING & OFFICE FURNITURE                                    6\n",
       "GILCOR PRINTING PRESS                                                     6\n",
       "MCSA MARKETING                                                            6\n",
       "UNITED TECHNOLOGIES CONSOLIDATED PARTNERSHIP                              5\n",
       "PERTCONSULT INTERNATIONAL                                                 5\n",
       "R. D. INTERIOR JUNIOR CONSTRUCTION                                        5\n",
       "HP TRADING AND AIRCONDITIONING CORP.                                      5\n",
       "J.D. LEGASPI CONSTRUCTION                                                 5\n",
       "GENUINE TRADING                                                           4\n",
       "A. M. ORETA & CO., INC.                                                   4\n",
       "E.H. SISON ENGINEERS, CO. (EHSEC)                                         4\n",
       "GUARANTY HARDWARE & CONSTRUCTION SUPPLY                                   4\n",
       "ENA POWER BUILDERS, INC.                                                  4\n",
       "O.R. SARMIENTO CONSTRUCTION                                               4\n",
       "HAIDEE CONSTRUCTION & DEVELOPMENT CORPORATION                             4\n",
       "MB MASTER SUPPLIES CORPORATION                                            4\n",
       "RENARDET S.A.                                                             4\n",
       "TRI-GLOBE TRANSPORT SERVICES AND TRADING, INC.                            4\n",
       "VICENTE T. LAO CONSTRUCTION                                               4\n",
       "GLOBAL MYOHO RENGE COPY INC.                                              3\n",
       "L.R. TIQUI BUILDERS, INC.                                                 3\n",
       "EQUI-PARCO CONSTRUCTION COMPANY                                           3\n",
       "LUZON SALES COMPANY, INCORPORATED                                         3\n",
       "CTI ENGINEERING INTERNATIONAL CO., LTD.                                   3\n",
       "R.A. PAHATI GRAVEL AND SAND                                               3\n",
       "NEW A. G. STYLIST FURNITURE                                               3\n",
       "BMK CONSTRUCTION                                                          3\n",
       "R.D. POLICARPIO & CO., INC.                                               3\n",
       "INTEGRATED COMPUTER SYSTEMS, INC.                                         3\n",
       "CIVIC MERCHANDISING, INC.                                                 3\n",
       "NAIC TRADING                                                              3\n",
       "YAKAL CONSTRUCTION                                                        3\n",
       "JQ TECH COMPUTER SERVICE                                                  3\n",
       "ELIAKIM GENERAL MERCHANDISE                                               3\n",
       "BSP & COMPANY INC.                                                        3\n",
       "CUSTOMERS FIRST TRADING                                                   3\n",
       "HI-TRI DEVELOPMENT CORPORATION                                            3\n",
       "MICROBASE INCORPORATED                                                    3\n",
       "PACIFIC CONCRETE PRODUCTS, INC.                                           3\n",
       "TOKWING CONSTRUCTION CORP.                                                3\n",
       "M LACUESTA INTERNATIONAL TRADING                                          3\n",
       "FATMAN ENTERPRISES                                                        2\n",
       "ROQSON INDUSTRIAL SALES, INC.                                             2\n",
       "FILPRIDE RESOURCES INC.                                                   2\n",
       "CHEMGATE INDUSTRIAL SALES                                                 2\n",
       "AKN CONSTRUCTION CORPORATION                                              2\n",
       "E.M. CUERPO INC.                                                          2\n",
       "DEVELOPMENT ACADEMY OF THE PHILIPPINES                                    2\n",
       "HUNAN ROAD & BRIDGE CORPORATION PHIL. BRANCH                              2\n",
       "FOUNDATION SPECIALISTS, INC.                                              2\n",
       "ECH20 CORPORATION                                                         2\n",
       "CHINA HENAN SHUILI YIJU                                                   2\n",
       "PRINT DEPOT, INC.                                                         2\n",
       "DEMCOR ENGINEERS CO.                                                      2\n",
       "LEADWAY CONSTRUCTION AND DEVELOPMENT CORPORATION                          2\n",
       "FERDSTAR BUILDERS CONTRACTORS                                             2\n",
       "GLOBAL INSTRUMENTS CORPORATION                                            2\n",
       "MAC BUILDERS                                                              2\n",
       "CHINA GEO-ENGINEERING CORPORATION                                         2\n",
       "PHILWORKS CONSTRUCTION AND SUPPLY                                         2\n",
       "ZURBANO PUBLISHING AND PRINTING CORP.                                     2\n",
       "WERR CORPORATION INTERNATIONAL                                            2\n",
       "JM AUTO PARTS & GENERAL MERCHANDISE CO.                                   2\n",
       "FIAT CONSTRUCTION SERVICES                                                2\n",
       "PROFILES ASIA PACIFIC INC                                                 2\n",
       "HLYC TRADING                                                              2\n",
       "XEFAR ENTERPRISES                                                         2\n",
       "AARCON BUILDERS                                                           2\n",
       "MACRO CONSTRUCTION EQUIPMENT                                              2\n",
       "LINK_NETWORK SOLUTIONS INC.                                               2\n",
       "R.A. PAHATI CONST. & SUPPLY, INC                                          2\n",
       "WORKSTATION DESIGNERS CENTER                                              2\n",
       "CM RECTO AUTO SUPPLY CO., INC                                             2\n",
       "ALLIED QUAD CONSTRUCTION & TRADING                                        2\n",
       "ESR CONSTRUCTION & SUPPLIES                                               2\n",
       "SHELLSOFT TECHNOLOGY CORPORATION                                          2\n",
       "UDASCO HOUSE OF PRINTING                                                  2\n",
       "AIRFREIGHT 2100, INC.                                                     2\n",
       "ULTICON BUILDERS, INC.                                                    2\n",
       "MSB VITUG CONSTRUCTION                                                    2\n",
       "STANLEY BRADLEY TRADING INC.                                              2\n",
       "URBAN ENGINEERS                                                           2\n",
       "B. VICENCIO CONSTRUCTION                                                  2\n",
       "F.F. CRUZ & CO., INC.                                                     2\n",
       "GENETIAN BUILDERS                                                         1\n",
       "CAVDEAL - CAVITE IDEAL INTERNATIONAL CONSTRUCTION & DEVELOPMENT CORP.     1\n",
       "HEBEI ROAD AND BRIDGE GROUP CO., LTD                                      1\n",
       "MONOLITHIC CONSTRUCTION AND CONCRETE PRODUCTS,...                         1\n",
       "COSMOTECH PHILIPPINES, INC.                                               1\n",
       "DESIGN CREST FURNITURE COMPONENT                                          1\n",
       "STRAIGHTFORWARD ENTERPRISES                                               1\n",
       "GAMMA LINE ENTERPRISE                                                     1\n",
       "R.S. SEPIAN CONSTRUCTION & TRUCKING                                       1\n",
       "ANGEL LAZARO AND ASSOCIATES INTERNATIONAL                                 1\n",
       "DSB CONSTRUCTION & SUPPLY, INC.                                           1\n",
       "2-R CONSTRUCTION & SUPPLY                                                 1\n",
       "LP JACA MARKETING                                                         1\n",
       "ROFMAN TRADING                                                            1\n",
       "GAKKEN PHILIPPINES, INC.                                                  1\n",
       "CHRISTIAN IAN CONSTRUCTION CORPORATION                                    1\n",
       "DADOY FREIGHT SERVICE CONSTRUCTION &AMP; SUPPLY                           1\n",
       "BSPH MARKETING                                                            1\n",
       "BROSTAN CONSTRUCTION AND DEVELOPMENT                                      1\n",
       "WIDE WIDE WORLD EXPRESS CORPORATION                                       1\n",
       "GCI CONSTRUCTION                                                          1\n",
       "UK OFFICE, INC.                                                           1\n",
       "MONOLITHIC CONSTRUCTION AND CONCRETE PRODUCTS, INC.                       1\n",
       "CIVIL SERVICE COMMISSION - CENTRAL OFFICE                                 1\n",
       "OTUS COPY SYSTEMS, INC.                                                   1\n",
       "E. GARDIOLA CONSTRUCTION                                                  1\n",
       "P.B. DIONISIO & CO., INC.                                                 1\n",
       "R. TY TRADING                                                             1\n",
       "ASAHI DESIGN CENTER                                                       1\n",
       "NBR GENERAL MERCHANDISE                                                   1\n",
       "E.C. DE LUNA CONSTRUCTION CORP.                                           1\n",
       "ZABU ENGINEERING                                                          1\n",
       "GETINSA INGENIERIA S.L.                                                   1\n",
       "A.P. PALACIOS CONSTRUCTION                                                1\n",
       "C.M. PANCHO CONSTRUCTION, INC.                                            1\n",
       "VERACITY SYNERGY SOLUTION'S, INC.                                         1\n",
       "CENTER FOR ENVIRONMENTAL STUDIES AND MANAGEMENT, INC.                     1\n",
       "CAMIA CONST. DEVELOPMENT CORPORATION                                      1\n",
       "EXPLORER MOTORS INC.                                                      1\n",
       "FUNCTIONAL, INC.                                                          1\n",
       "EPLDT VENTUS, INC.                                                        1\n",
       "KYRO BUILDERS                                                             1\n",
       "NEWBURG COMMERCIAL INC.                                                   1\n",
       "CELLTRON MARKETING CO.                                                    1\n",
       "MCCD ENGINEERING SERVICES & TRADING                                       1\n",
       "FRANCISCO GLASS AND ALUMINUM SUPPLY AND SERVICES                          1\n",
       "ASSOCIATED RESOURCES FOR MANAGEMENT AND DEVELO...                         1\n",
       "J. M. LUCIANO CONSTRUCTION, INC.                                          1\n",
       "UNLIMITED RESOURCE GROUP PHILS,. INC.                                     1\n",
       "PHILIPPINE LONG DISTANCE TELEPHONE COMPANY                                1\n",
       "ATR MANUFACTURING & TRADING CORPORATION                                   1\n",
       "DUROS DEVELOPMENT CORPORATION                                             1\n",
       "PUMPCRAFT INDUSTRIAL SALES                                                1\n",
       "EC-TEC COMMERCIAL                                                         1\n",
       "INNOVE COMMUNICATIONS, INC.                                               1\n",
       "LICHEL TECHNOLOGIES, INC.                                                 1\n",
       "CARDNO EMERGING MARKETS PTY LTD (AUST)                                    1\n",
       "NFH CONSTRUCTION & SUPPLY                                                 1\n",
       "ALGON ENGINEERING CONSTRUCTION CORPORATION                                1\n",
       "BUSINESS MACHINES CORPORATION                                             1\n",
       "PALEENO AP .INC                                                           1\n",
       "J.B.S. CONSTRUCTION, INC.                                                 1\n",
       "QINGJIAN GROUP CO., LTD. PHILIPPINE BRANCH                                1\n",
       "AKINTO MARKETING CORPORATION                                              1\n",
       "CHINA INTERNATIONAL WATER AND ELECTRIC CORPORA...                         1\n",
       "TEKNIKOS REFRIGERATION AND AIRCONDITIONING SER...                         1\n",
       "MAXIMA MACHINERIES INC.                                                   1\n",
       "MMG GENERAL MERCHANDISE                                                   1\n",
       "KATAHIRA & ENGINEERS INTERNATIONAL                                        1\n",
       "GRACE CONSTRUCTION CORPORATION                                            1\n",
       "HANJIN HEAVY INDUSTRIES & CONSTRUCTION CO., LTD.                          1\n",
       "A.C. RIVERO DEVELOPMENT CORPORATION                                       1\n",
       "NERA PHILIPPINES INC.                                                     1\n",
       "SARGASSO CONSTRUCTION AND DEVELOPMENT CORPORATION                         1\n",
       "CIRIACO CORPORATION                                                       1\n",
       "R.M. VITUG CONSTRUCTION                                                   1\n",
       "BREN MOTORS                                                               1\n",
       "AZITSOROG INCORPORATED                                                    1\n",
       "SAIDI SCHOOL OF ORGANIZATION DEVELOPMENT                                  1\n",
       "TCGI ENGINEERS                                                            1\n",
       "MOUNT SINAI SCIENTIFIC AND PHARMACEUTICAL SUPPLY                          1\n",
       "E.S. PUA CONSTRUCTION                                                     1\n",
       "GEODATA SYSTEMS TECHNOLOGIES, INC.                                        1\n",
       "KANEMATSU CORPORATION                                                     1\n",
       "KANE CONSTRUCTION, INC.                                                   1\n",
       "DJD CONSTRUCTION                                                          1\n",
       "K.O.B.S. CUSTOMERS FIRST TRADING INC.                                     1\n",
       "COMMERCIAL FREIGHT SERVICES, INC.                                         1\n",
       "ASIAN PEST CONTROL                                                        1\n",
       "KM3C TRADING                                                              1\n",
       "ARMANGEL MEDICAL EQUIPMENT SALES AND SERVICES                             1\n",
       "SILICON ELECTRICAL SUPPLY, INC.                                           1\n",
       "TRADEMASTER RESOURCES CORPORATION                                         1\n",
       "MAR-DEB CONSTRUCTION AND DEVELOPMENT                                      1\n",
       "WOODFIELDS ENGINEERS COMPANY                                              1\n",
       "V.O.M. TRADING                                                            1\n",
       "U-FIRST ENTERPRISES                                                       1\n",
       "SATRAP CONSTRUCTION CO., INC.                                             1\n",
       "VICMAR CONSTRUCTION, INC.                                                 1\n",
       "AQUINO-DELA CRUZ ENGINEERING AND CONSTRUCTION                             1\n",
       "FIRST PACIFIC LEADERSHIP ACADEMY, INCORPORATED                            1\n",
       "CHAMPION HARDWARE & CO., INC.                                             1\n",
       "DEVELOPEMENT ENGINEERING AND MANAGEMENT CORP. (DEMCOR, INC.)              1\n",
       "AUTOCIRCULO CORPORATION                                                   1\n",
       "MASANGKAY COMPUTER CENTER                                                 1\n",
       "E. A. SANCHO CONSTRUCTION, INC.                                           1\n",
       "MBB CONSTRUCTION                                                          1\n",
       "MR. NORIEL CHRISTOPHER CANOS TIGLAO                                       1\n",
       "B.C. CUERPO CONSTRUCTION CORP                                             1\n",
       "SCHEMA ENGINEERS & ASSOCIATES                                             1\n",
       "CYTEL PHILIPPINES ENTERPRISES                                             1\n",
       "R.TY GENERAL MERCHANDIZE CO.                                              1\n",
       "KAMAHALAN PUBLISHING CORP.                                                1\n",
       "QUIZAR ENTERPRISES                                                        1\n",
       "RITZ COMMERCIAL                                                           1\n",
       "PILIPINAS TELESERV, INC.                                                  1\n",
       "MAXIAIR CORPORATION                                                       1\n",
       "CHINA WUYI CO. LTD.                                                       1\n",
       "J-BROS CONSTRUCTION                                                       1\n",
       "ROYAL CROWN MONARCH CONSTRUCTION & SUPPLIES CORP.                         1\n",
       "JORDAL MEDICAL SYSTEMS, INC.                                              1\n",
       "BESSANG PASS SECURITY AGENCY, INC.                                        1\n",
       "CUBIXOFFICE INC.                                                          1\n",
       "ACCEL PRIME TECHNOLOGIES INCORPORATED                                     1\n",
       "SMDI CONSULTANTS, INC.                                                    1\n",
       "MUSTANG SECURITY AGENCY, INC                                              1\n",
       "OPTIMAL SYSTEMS DISTRIBUTION, INC                                         1\n",
       "SLITHOR ENTERPRISES INC.                                                  1\n",
       "DYNAMIC BUILDERS & CONSTRUCTION CO.(PHIL.) INC.                           1\n",
       "RHINE MARKETING CORPORATION - MAKATI                                      1\n",
       "SOLID BUSINESS MACHINES CENTER, INC.                                      1\n",
       "J F CANCIO & ASSOCIATES                                                   1\n",
       "HY-INTL UNLIMITED TRADING COMPANY                                         1\n",
       "AA INTERIORS ENTERPRISES                                                  1\n",
       "RAM BUILDERS                                                              1\n",
       "BEST SHOT PRINTING                                                        1\n",
       "OPTIMAL INFRASTRUCTURE DEVELOPMENT, INC.                                  1\n",
       "LAGING QLEAN JANITORIAL SERVICES, INC.                                    1\n",
       "J2M2 AUTO PARTS CENTER                                                    1\n",
       "U-BIX CORPORATION - MAKATI                                                1\n",
       "T.J. BAGUS FURNITURE & GENERAL MERCHANDISE                                1\n",
       "THREE W BUILDERS, INC.                                                    1\n",
       "PRUDENCE MERCHANDISING, INC.                                              1\n",
       "FILADAMS PHARMA, INC.                                                     1\n",
       "CAPITAL INDUSTRIES, INC.                                                  1\n",
       "MAN AUTOMOTIVE CONCESSIONAIRES CORPORATION                                1\n",
       "UNIVERSITY OF THE PHILIPPINES - DILIMAN                                   1\n",
       "EDDMARI CONSTRUCTION & TRADING                                            1\n",
       "CENTER POINT SALES & TRADING, INC.                                        1\n",
       "TRIPLE 8 CONST. & SUPPLY INC.                                             1\n",
       "REVERE CONSTRUCTION & SUPPLY CORPORATION – BATANGAS                       1\n",
       "ASTRAN MARKETING & GENERAL CONTRACTOR, INCORPO...                         1\n",
       "CYCORE TECHNOLOGY SOLUTIONS CO. INC.                                      1\n",
       "PANDACAN PETRON SERVICENTER                                               1\n",
       "A.J. TAYLAN CONSTRUCTION CORPORATION                                      1\n",
       "WILPER CONSTRUCTION, INC                                                  1\n",
       "TOYO CONSTRUCTION CO., LTD.                                               1\n",
       "QUARTZ BUSINESS PRODUCTS CORPORATION                                      1\n",
       "Name: Awardee, dtype: int64"
      ]
     },
     "execution_count": 53,
     "metadata": {},
     "output_type": "execute_result"
    }
   ],
   "source": [
    "A_DPWH_Main.Awardee.value_counts()"
   ]
  },
  {
   "cell_type": "code",
   "execution_count": null,
   "metadata": {},
   "outputs": [],
   "source": []
  },
  {
   "cell_type": "markdown",
   "metadata": {},
   "source": [
    "### City of Las Pinas Awardees 2010-2013\n",
    "\n",
    "Awardees of DPWH Projects\n",
    "\n",
    "    E.M. ANGELES ENTERPRISES\t130\n",
    "    KME DESIGN AND CONSTRUCTION\t20\n",
    "    ARAC CONSTRUCTION\t71\n",
    "    EXEL CONCEPTS CORP.\t45\n",
    "    REDCAR TRADING AND CONSTRUCTION\t30\n",
    "    CYNDEL GENERAL CONTRACTOR\t20\n",
    "    NATHAN ENTERPRISES\t1\n",
    "    KME DESIGNS AND CONSTRUCTION\t5"
   ]
  },
  {
   "cell_type": "code",
   "execution_count": 10,
   "metadata": {
    "scrolled": true
   },
   "outputs": [
    {
     "data": {
      "text/html": [
       "<div>\n",
       "<style scoped>\n",
       "    .dataframe tbody tr th:only-of-type {\n",
       "        vertical-align: middle;\n",
       "    }\n",
       "\n",
       "    .dataframe tbody tr th {\n",
       "        vertical-align: top;\n",
       "    }\n",
       "\n",
       "    .dataframe thead th {\n",
       "        text-align: right;\n",
       "    }\n",
       "</style>\n",
       "<table border=\"1\" class=\"dataframe\">\n",
       "  <thead>\n",
       "    <tr style=\"text-align: right;\">\n",
       "      <th></th>\n",
       "      <th>index</th>\n",
       "      <th>Awardee</th>\n",
       "    </tr>\n",
       "  </thead>\n",
       "  <tbody>\n",
       "    <tr>\n",
       "      <th>0</th>\n",
       "      <td>E.M. ANGELES ENTERPRISES</td>\n",
       "      <td>15</td>\n",
       "    </tr>\n",
       "    <tr>\n",
       "      <th>1</th>\n",
       "      <td>ARAC CONSTRUCTION</td>\n",
       "      <td>13</td>\n",
       "    </tr>\n",
       "    <tr>\n",
       "      <th>2</th>\n",
       "      <td>REDCAR TRADING AND CONSTRUCTION</td>\n",
       "      <td>12</td>\n",
       "    </tr>\n",
       "    <tr>\n",
       "      <th>3</th>\n",
       "      <td>EXEL CONCEPTS CORP.</td>\n",
       "      <td>11</td>\n",
       "    </tr>\n",
       "    <tr>\n",
       "      <th>4</th>\n",
       "      <td>KME DESIGN AND CONSTRUCTION</td>\n",
       "      <td>8</td>\n",
       "    </tr>\n",
       "    <tr>\n",
       "      <th>5</th>\n",
       "      <td>CYNDEL GENERAL CONTRACTOR</td>\n",
       "      <td>8</td>\n",
       "    </tr>\n",
       "    <tr>\n",
       "      <th>6</th>\n",
       "      <td>NATHAN ENTERPRISES</td>\n",
       "      <td>1</td>\n",
       "    </tr>\n",
       "    <tr>\n",
       "      <th>7</th>\n",
       "      <td>KME DESIGNS AND CONSTRUCTION</td>\n",
       "      <td>1</td>\n",
       "    </tr>\n",
       "  </tbody>\n",
       "</table>\n",
       "</div>"
      ],
      "text/plain": [
       "                             index  Awardee\n",
       "0         E.M. ANGELES ENTERPRISES       15\n",
       "1                ARAC CONSTRUCTION       13\n",
       "2  REDCAR TRADING AND CONSTRUCTION       12\n",
       "3              EXEL CONCEPTS CORP.       11\n",
       "4      KME DESIGN AND CONSTRUCTION        8\n",
       "5        CYNDEL GENERAL CONTRACTOR        8\n",
       "6               NATHAN ENTERPRISES        1\n",
       "7     KME DESIGNS AND CONSTRUCTION        1"
      ]
     },
     "execution_count": 10,
     "metadata": {},
     "output_type": "execute_result"
    }
   ],
   "source": [
    "A_CLP.Awardee.value_counts().reset_index()"
   ]
  },
  {
   "cell_type": "code",
   "execution_count": 11,
   "metadata": {},
   "outputs": [],
   "source": [
    "A_CLP_EMAS = A_CLP[A_CLP.Awardee == 'E.M. ANGELES ENTERPRISES']\n",
    "A_CLP_ARAS = A_CLP[A_CLP.Awardee == 'ARAC CONSTRUCTION']\n",
    "A_CLP_REDS = A_CLP[A_CLP.Awardee == 'REDCAR TRADING AND CONSTRUCTION']\n",
    "A_CLP_EXES = A_CLP[A_CLP.Awardee == 'EXEL CONCEPTS CORP.']\n",
    "A_CLP_KMES = A_CLP[A_CLP.Awardee == 'KME DESIGN AND CONSTRUCTION']\n",
    "A_CLP_CYNS = A_CLP[A_CLP.Awardee == 'CYNDEL GENERAL CONTRACTOR']\n",
    "A_CLP_NATS = A_CLP[A_CLP.Awardee == 'NATHAN ENTERPRISES']\n",
    "A_CLP_KMESS = A_CLP[A_CLP.Awardee == 'KME DESIGNS AND CONSTRUCTION']"
   ]
  },
  {
   "cell_type": "code",
   "execution_count": 12,
   "metadata": {},
   "outputs": [
    {
     "data": {
      "text/plain": [
       "130"
      ]
     },
     "execution_count": 12,
     "metadata": {},
     "output_type": "execute_result"
    }
   ],
   "source": [
    "A_CLP_EMAS.Number_of_Projects.sum()"
   ]
  },
  {
   "cell_type": "code",
   "execution_count": 13,
   "metadata": {},
   "outputs": [
    {
     "data": {
      "text/plain": [
       "20"
      ]
     },
     "execution_count": 13,
     "metadata": {},
     "output_type": "execute_result"
    }
   ],
   "source": [
    "A_CLP_KMES.Number_of_Projects.sum()"
   ]
  },
  {
   "cell_type": "code",
   "execution_count": 14,
   "metadata": {},
   "outputs": [
    {
     "data": {
      "text/plain": [
       "71"
      ]
     },
     "execution_count": 14,
     "metadata": {},
     "output_type": "execute_result"
    }
   ],
   "source": [
    "A_CLP_ARAS.Number_of_Projects.sum()"
   ]
  },
  {
   "cell_type": "code",
   "execution_count": 15,
   "metadata": {},
   "outputs": [
    {
     "data": {
      "text/plain": [
       "45"
      ]
     },
     "execution_count": 15,
     "metadata": {},
     "output_type": "execute_result"
    }
   ],
   "source": [
    "A_CLP_EXES.Number_of_Projects.sum()"
   ]
  },
  {
   "cell_type": "code",
   "execution_count": 16,
   "metadata": {},
   "outputs": [
    {
     "data": {
      "text/plain": [
       "30"
      ]
     },
     "execution_count": 16,
     "metadata": {},
     "output_type": "execute_result"
    }
   ],
   "source": [
    "A_CLP_REDS.Number_of_Projects.sum()"
   ]
  },
  {
   "cell_type": "code",
   "execution_count": 17,
   "metadata": {},
   "outputs": [
    {
     "data": {
      "text/plain": [
       "20"
      ]
     },
     "execution_count": 17,
     "metadata": {},
     "output_type": "execute_result"
    }
   ],
   "source": [
    "A_CLP_CYNS.Number_of_Projects.sum()"
   ]
  },
  {
   "cell_type": "code",
   "execution_count": 18,
   "metadata": {},
   "outputs": [
    {
     "data": {
      "text/plain": [
       "5"
      ]
     },
     "execution_count": 18,
     "metadata": {},
     "output_type": "execute_result"
    }
   ],
   "source": [
    "A_CLP_KMESS.Number_of_Projects.sum()"
   ]
  },
  {
   "cell_type": "code",
   "execution_count": 19,
   "metadata": {},
   "outputs": [
    {
     "data": {
      "text/plain": [
       "1"
      ]
     },
     "execution_count": 19,
     "metadata": {},
     "output_type": "execute_result"
    }
   ],
   "source": [
    "A_CLP_NATS.Number_of_Projects.sum()"
   ]
  },
  {
   "cell_type": "markdown",
   "metadata": {},
   "source": [
    "## Procurement Mode\n",
    "\n",
    "    Public Bidding                                                           567\n",
    "    Shopping                                                                 299\n",
    "    International Competitive Bidding                                         39\n",
    "    Negotiated Procurement                                                    11\n",
    "    Direct Contracting (Sec. 50)                                               9\n",
    "    Negotiated Procurement - Agency to Agency (Sec. 53.5)                      4\n",
    "    Negotiated Procurement - Emergency Cases (Sec. 53.2)                       2\n",
    "    Negotiated Procurement - Two Failed Biddings (Sec. 53.1)                   1\n",
    "    Shopping - Ordinary/Regular Office Supplies & Equipment (Sec. 52.1.b)      1\n",
    "    Negotiated Procurement - Highly Technical Consultants (Sec. 53.7)          1\n",
    "    National Competitive Bidding                                               1"
   ]
  },
  {
   "cell_type": "code",
   "execution_count": 20,
   "metadata": {},
   "outputs": [
    {
     "name": "stdout",
     "output_type": "stream",
     "text": [
      "<class 'pandas.core.frame.DataFrame'>\n",
      "RangeIndex: 78 entries, 0 to 77\n",
      "Data columns (total 5 columns):\n",
      "Organization_Name    78 non-null object\n",
      "Quarter              78 non-null object\n",
      "Year                 78 non-null int64\n",
      "Procurement_Mode     76 non-null object\n",
      "Number               76 non-null float64\n",
      "dtypes: float64(1), int64(1), object(3)\n",
      "memory usage: 2.2+ KB\n"
     ]
    }
   ],
   "source": [
    "PMode.info()"
   ]
  },
  {
   "cell_type": "code",
   "execution_count": 21,
   "metadata": {},
   "outputs": [
    {
     "data": {
      "text/plain": [
       "Public Bidding                                                           31\n",
       "Shopping                                                                 15\n",
       "International Competitive Bidding                                        10\n",
       "Direct Contracting (Sec. 50)                                              6\n",
       "Negotiated Procurement                                                    5\n",
       "Negotiated Procurement - Agency to Agency (Sec. 53.5)                     4\n",
       "Negotiated Procurement - Emergency Cases (Sec. 53.2)                      1\n",
       "Negotiated Procurement - Two Failed Biddings (Sec. 53.1)                  1\n",
       "Shopping - Ordinary/Regular Office Supplies & Equipment (Sec. 52.1.b)     1\n",
       "Negotiated Procurement - Highly Technical Consultants (Sec. 53.7)         1\n",
       "National Competitive Bidding                                              1\n",
       "Name: Procurement_Mode, dtype: int64"
      ]
     },
     "execution_count": 21,
     "metadata": {},
     "output_type": "execute_result"
    }
   ],
   "source": [
    "PMode.Procurement_Mode.value_counts()"
   ]
  },
  {
   "cell_type": "code",
   "execution_count": 22,
   "metadata": {},
   "outputs": [],
   "source": [
    "PMode_PBS = PMode[PMode.Procurement_Mode == 'Public Bidding']\n",
    "PMode_SS = PMode[PMode.Procurement_Mode == 'Shopping']\n",
    "PMode_ICBS = PMode[PMode.Procurement_Mode == 'International Competitive Bidding']\n",
    "PMode_DCS = PMode[PMode.Procurement_Mode == 'Direct Contracting (Sec. 50)']\n",
    "PMode_NPS = PMode[PMode.Procurement_Mode == 'Negotiated Procurement']\n",
    "PMode_NPAS = PMode[PMode.Procurement_Mode == 'Negotiated Procurement - Agency to Agency (Sec. 53.5)']\n",
    "PMode_NPES = PMode[PMode.Procurement_Mode == 'Negotiated Procurement - Emergency Cases (Sec. 53.2)']\n",
    "PMode_NPTS = PMode[PMode.Procurement_Mode == 'Negotiated Procurement - Two Failed Biddings (Sec. 53.1)']\n",
    "PMode_SOS = PMode[PMode.Procurement_Mode == 'Shopping - Ordinary/Regular Office Supplies & Equipment (Sec. 52.1.b)']\n",
    "PMode_NPHS = PMode[PMode.Procurement_Mode == 'Negotiated Procurement - Highly Technical Consultants (Sec. 53.7)']\n",
    "PMode_NCBS = PMode[PMode.Procurement_Mode == 'National Competitive Bidding']"
   ]
  },
  {
   "cell_type": "code",
   "execution_count": 23,
   "metadata": {},
   "outputs": [
    {
     "data": {
      "text/plain": [
       "567.0"
      ]
     },
     "execution_count": 23,
     "metadata": {},
     "output_type": "execute_result"
    }
   ],
   "source": [
    "PMode_PBS.Number.sum()"
   ]
  },
  {
   "cell_type": "code",
   "execution_count": 24,
   "metadata": {},
   "outputs": [
    {
     "data": {
      "text/plain": [
       "299.0"
      ]
     },
     "execution_count": 24,
     "metadata": {},
     "output_type": "execute_result"
    }
   ],
   "source": [
    "PMode_SS.Number.sum()"
   ]
  },
  {
   "cell_type": "code",
   "execution_count": 25,
   "metadata": {},
   "outputs": [
    {
     "data": {
      "text/plain": [
       "39.0"
      ]
     },
     "execution_count": 25,
     "metadata": {},
     "output_type": "execute_result"
    }
   ],
   "source": [
    "PMode_ICBS.Number.sum()"
   ]
  },
  {
   "cell_type": "code",
   "execution_count": 26,
   "metadata": {},
   "outputs": [
    {
     "data": {
      "text/plain": [
       "11.0"
      ]
     },
     "execution_count": 26,
     "metadata": {},
     "output_type": "execute_result"
    }
   ],
   "source": [
    "PMode_NPS.Number.sum()"
   ]
  },
  {
   "cell_type": "code",
   "execution_count": 27,
   "metadata": {},
   "outputs": [
    {
     "data": {
      "text/plain": [
       "9.0"
      ]
     },
     "execution_count": 27,
     "metadata": {},
     "output_type": "execute_result"
    }
   ],
   "source": [
    "PMode_DCS.Number.sum()"
   ]
  },
  {
   "cell_type": "code",
   "execution_count": 28,
   "metadata": {},
   "outputs": [
    {
     "data": {
      "text/plain": [
       "4.0"
      ]
     },
     "execution_count": 28,
     "metadata": {},
     "output_type": "execute_result"
    }
   ],
   "source": [
    "PMode_NPAS.Number.sum()"
   ]
  },
  {
   "cell_type": "code",
   "execution_count": 29,
   "metadata": {},
   "outputs": [
    {
     "data": {
      "text/plain": [
       "2.0"
      ]
     },
     "execution_count": 29,
     "metadata": {},
     "output_type": "execute_result"
    }
   ],
   "source": [
    "PMode_NPES.Number.sum()"
   ]
  },
  {
   "cell_type": "code",
   "execution_count": 30,
   "metadata": {},
   "outputs": [
    {
     "data": {
      "text/plain": [
       "1.0"
      ]
     },
     "execution_count": 30,
     "metadata": {},
     "output_type": "execute_result"
    }
   ],
   "source": [
    "PMode_NPTS.Number.sum()"
   ]
  },
  {
   "cell_type": "code",
   "execution_count": 31,
   "metadata": {},
   "outputs": [
    {
     "data": {
      "text/plain": [
       "1.0"
      ]
     },
     "execution_count": 31,
     "metadata": {},
     "output_type": "execute_result"
    }
   ],
   "source": [
    "PMode_SOS.Number.sum()"
   ]
  },
  {
   "cell_type": "code",
   "execution_count": 32,
   "metadata": {},
   "outputs": [
    {
     "data": {
      "text/plain": [
       "1.0"
      ]
     },
     "execution_count": 32,
     "metadata": {},
     "output_type": "execute_result"
    }
   ],
   "source": [
    "PMode_NPHS.Number.sum()"
   ]
  },
  {
   "cell_type": "code",
   "execution_count": 33,
   "metadata": {},
   "outputs": [
    {
     "data": {
      "text/plain": [
       "1.0"
      ]
     },
     "execution_count": 33,
     "metadata": {},
     "output_type": "execute_result"
    }
   ],
   "source": [
    "PMode_NCBS.Number.sum()"
   ]
  },
  {
   "cell_type": "code",
   "execution_count": 34,
   "metadata": {},
   "outputs": [
    {
     "data": {
      "text/html": [
       "<div>\n",
       "<style scoped>\n",
       "    .dataframe tbody tr th:only-of-type {\n",
       "        vertical-align: middle;\n",
       "    }\n",
       "\n",
       "    .dataframe tbody tr th {\n",
       "        vertical-align: top;\n",
       "    }\n",
       "\n",
       "    .dataframe thead th {\n",
       "        text-align: right;\n",
       "    }\n",
       "</style>\n",
       "<table border=\"1\" class=\"dataframe\">\n",
       "  <thead>\n",
       "    <tr style=\"text-align: right;\">\n",
       "      <th></th>\n",
       "      <th>index</th>\n",
       "      <th>Organization_Name</th>\n",
       "    </tr>\n",
       "  </thead>\n",
       "  <tbody>\n",
       "    <tr>\n",
       "      <th>0</th>\n",
       "      <td>DPWH Main</td>\n",
       "      <td>63</td>\n",
       "    </tr>\n",
       "    <tr>\n",
       "      <th>1</th>\n",
       "      <td>City of Las Pinas</td>\n",
       "      <td>15</td>\n",
       "    </tr>\n",
       "  </tbody>\n",
       "</table>\n",
       "</div>"
      ],
      "text/plain": [
       "               index  Organization_Name\n",
       "0          DPWH Main                 63\n",
       "1  City of Las Pinas                 15"
      ]
     },
     "execution_count": 34,
     "metadata": {},
     "output_type": "execute_result"
    }
   ],
   "source": [
    "PMode.Organization_Name.value_counts().reset_index()"
   ]
  },
  {
   "cell_type": "markdown",
   "metadata": {},
   "source": [
    "### DPWH Main Procurement Mode\n",
    "\n",
    "    Public Bidding                                                           245\n",
    "    Shopping                                                                 299\n",
    "    International Competitive Bidding                                         39\n",
    "    Negotiated Procurement                                                    11\n",
    "    Direct Contracting (Sec. 50)                                               9\n",
    "    Negotiated Procurement - Agency to Agency (Sec. 53.5)                      4\n",
    "    Negotiated Procurement - Emergency Cases (Sec. 53.2)                       2\n",
    "    Negotiated Procurement - Two Failed Biddings (Sec. 53.1)                   1\n",
    "    Shopping - Ordinary/Regular Office Supplies & Equipment (Sec. 52.1.b)      1\n",
    "    Negotiated Procurement - Highly Technical Consultants (Sec. 53.7)          1\n",
    "    National Competitive Bidding                                               1"
   ]
  },
  {
   "cell_type": "code",
   "execution_count": 35,
   "metadata": {},
   "outputs": [],
   "source": [
    "P_DPWH_Main = PMode[PMode.Organization_Name == 'DPWH Main']"
   ]
  },
  {
   "cell_type": "code",
   "execution_count": 36,
   "metadata": {},
   "outputs": [],
   "source": [
    "P_CLP = PMode[PMode.Organization_Name == 'City of Las Pinas']"
   ]
  },
  {
   "cell_type": "code",
   "execution_count": 37,
   "metadata": {},
   "outputs": [
    {
     "data": {
      "text/plain": [
       "Public Bidding                                                           16\n",
       "Shopping                                                                 15\n",
       "International Competitive Bidding                                        10\n",
       "Direct Contracting (Sec. 50)                                              6\n",
       "Negotiated Procurement                                                    5\n",
       "Negotiated Procurement - Agency to Agency (Sec. 53.5)                     4\n",
       "Negotiated Procurement - Emergency Cases (Sec. 53.2)                      1\n",
       "Negotiated Procurement - Two Failed Biddings (Sec. 53.1)                  1\n",
       "Shopping - Ordinary/Regular Office Supplies & Equipment (Sec. 52.1.b)     1\n",
       "Negotiated Procurement - Highly Technical Consultants (Sec. 53.7)         1\n",
       "National Competitive Bidding                                              1\n",
       "Name: Procurement_Mode, dtype: int64"
      ]
     },
     "execution_count": 37,
     "metadata": {},
     "output_type": "execute_result"
    }
   ],
   "source": [
    "P_DPWH_Main.Procurement_Mode.value_counts()"
   ]
  },
  {
   "cell_type": "code",
   "execution_count": 38,
   "metadata": {},
   "outputs": [],
   "source": [
    "P_DPWH_Main_PBS = P_DPWH_Main[P_DPWH_Main.Procurement_Mode == 'Public Bidding']\n",
    "P_DPWH_Main_SS = P_DPWH_Main[P_DPWH_Main.Procurement_Mode == 'Shopping']\n",
    "P_DPWH_Main_ICBS = P_DPWH_Main[P_DPWH_Main.Procurement_Mode == 'International Competitive Bidding']\n",
    "P_DPWH_Main_DCS = P_DPWH_Main[P_DPWH_Main.Procurement_Mode == 'Direct Contracting (Sec. 50)']\n",
    "P_DPWH_Main_NPS = P_DPWH_Main[P_DPWH_Main.Procurement_Mode == 'Negotiated Procurement']\n",
    "P_DPWH_Main_NPAS = P_DPWH_Main[P_DPWH_Main.Procurement_Mode == 'Negotiated Procurement - Agency to Agency (Sec. 53.5)']\n",
    "P_DPWH_Main_NPES = P_DPWH_Main[P_DPWH_Main.Procurement_Mode == 'Negotiated Procurement - Emergency Cases (Sec. 53.2)']\n",
    "P_DPWH_Main_NPTS = P_DPWH_Main[P_DPWH_Main.Procurement_Mode == 'Negotiated Procurement - Two Failed Biddings (Sec. 53.1)']\n",
    "P_DPWH_Main_SOS = P_DPWH_Main[P_DPWH_Main.Procurement_Mode == 'Shopping - Ordinary/Regular Office Supplies & Equipment (Sec. 52.1.b)']\n",
    "P_DPWH_Main_NPHS = P_DPWH_Main[P_DPWH_Main.Procurement_Mode == 'Negotiated Procurement - Highly Technical Consultants (Sec. 53.7)']\n",
    "P_DPWH_Main_NCBS = P_DPWH_Main[P_DPWH_Main.Procurement_Mode == 'National Competitive Bidding']"
   ]
  },
  {
   "cell_type": "code",
   "execution_count": 39,
   "metadata": {},
   "outputs": [
    {
     "data": {
      "text/plain": [
       "245.0"
      ]
     },
     "execution_count": 39,
     "metadata": {},
     "output_type": "execute_result"
    }
   ],
   "source": [
    "P_DPWH_Main_PBS.Number.sum()"
   ]
  },
  {
   "cell_type": "code",
   "execution_count": 40,
   "metadata": {},
   "outputs": [
    {
     "data": {
      "text/plain": [
       "299.0"
      ]
     },
     "execution_count": 40,
     "metadata": {},
     "output_type": "execute_result"
    }
   ],
   "source": [
    "P_DPWH_Main_SS.Number.sum()"
   ]
  },
  {
   "cell_type": "code",
   "execution_count": 41,
   "metadata": {},
   "outputs": [
    {
     "data": {
      "text/plain": [
       "39.0"
      ]
     },
     "execution_count": 41,
     "metadata": {},
     "output_type": "execute_result"
    }
   ],
   "source": [
    "P_DPWH_Main_ICBS.Number.sum()"
   ]
  },
  {
   "cell_type": "code",
   "execution_count": 42,
   "metadata": {},
   "outputs": [
    {
     "data": {
      "text/plain": [
       "9.0"
      ]
     },
     "execution_count": 42,
     "metadata": {},
     "output_type": "execute_result"
    }
   ],
   "source": [
    "P_DPWH_Main_DCS.Number.sum()"
   ]
  },
  {
   "cell_type": "code",
   "execution_count": 43,
   "metadata": {},
   "outputs": [
    {
     "data": {
      "text/plain": [
       "11.0"
      ]
     },
     "execution_count": 43,
     "metadata": {},
     "output_type": "execute_result"
    }
   ],
   "source": [
    "P_DPWH_Main_NPS.Number.sum()"
   ]
  },
  {
   "cell_type": "code",
   "execution_count": 44,
   "metadata": {},
   "outputs": [
    {
     "data": {
      "text/plain": [
       "4.0"
      ]
     },
     "execution_count": 44,
     "metadata": {},
     "output_type": "execute_result"
    }
   ],
   "source": [
    "P_DPWH_Main_NPAS.Number.sum()"
   ]
  },
  {
   "cell_type": "code",
   "execution_count": 45,
   "metadata": {},
   "outputs": [
    {
     "data": {
      "text/plain": [
       "2.0"
      ]
     },
     "execution_count": 45,
     "metadata": {},
     "output_type": "execute_result"
    }
   ],
   "source": [
    "P_DPWH_Main_NPES.Number.sum()"
   ]
  },
  {
   "cell_type": "code",
   "execution_count": 46,
   "metadata": {},
   "outputs": [
    {
     "data": {
      "text/plain": [
       "1.0"
      ]
     },
     "execution_count": 46,
     "metadata": {},
     "output_type": "execute_result"
    }
   ],
   "source": [
    "P_DPWH_Main_NPTS.Number.sum()"
   ]
  },
  {
   "cell_type": "code",
   "execution_count": 47,
   "metadata": {},
   "outputs": [
    {
     "data": {
      "text/plain": [
       "1.0"
      ]
     },
     "execution_count": 47,
     "metadata": {},
     "output_type": "execute_result"
    }
   ],
   "source": [
    "P_DPWH_Main_SOS.Number.sum()"
   ]
  },
  {
   "cell_type": "code",
   "execution_count": 48,
   "metadata": {},
   "outputs": [
    {
     "data": {
      "text/plain": [
       "1.0"
      ]
     },
     "execution_count": 48,
     "metadata": {},
     "output_type": "execute_result"
    }
   ],
   "source": [
    "P_DPWH_Main_NPHS.Number.sum()"
   ]
  },
  {
   "cell_type": "code",
   "execution_count": 49,
   "metadata": {},
   "outputs": [
    {
     "data": {
      "text/plain": [
       "1.0"
      ]
     },
     "execution_count": 49,
     "metadata": {},
     "output_type": "execute_result"
    }
   ],
   "source": [
    "P_DPWH_Main_NCBS.Number.sum()"
   ]
  },
  {
   "cell_type": "markdown",
   "metadata": {},
   "source": [
    "### City of Las Pinas Procurement Mode\n",
    "\n",
    "    Public Bidding    322"
   ]
  },
  {
   "cell_type": "code",
   "execution_count": 50,
   "metadata": {},
   "outputs": [
    {
     "data": {
      "text/plain": [
       "Public Bidding    15\n",
       "Name: Procurement_Mode, dtype: int64"
      ]
     },
     "execution_count": 50,
     "metadata": {},
     "output_type": "execute_result"
    }
   ],
   "source": [
    "P_CLP.Procurement_Mode.value_counts()"
   ]
  },
  {
   "cell_type": "code",
   "execution_count": 51,
   "metadata": {},
   "outputs": [],
   "source": [
    "P_CLP_PP = P_CLP[P_CLP.Procurement_Mode == 'Public Bidding']"
   ]
  },
  {
   "cell_type": "code",
   "execution_count": 52,
   "metadata": {},
   "outputs": [
    {
     "data": {
      "text/plain": [
       "322.0"
      ]
     },
     "execution_count": 52,
     "metadata": {},
     "output_type": "execute_result"
    }
   ],
   "source": [
    "P_CLP_PP.Number.sum()"
   ]
  },
  {
   "cell_type": "code",
   "execution_count": null,
   "metadata": {},
   "outputs": [],
   "source": []
  }
 ],
 "metadata": {
  "kernelspec": {
   "display_name": "Python 2",
   "language": "python",
   "name": "python2"
  },
  "language_info": {
   "codemirror_mode": {
    "name": "ipython",
    "version": 2
   },
   "file_extension": ".py",
   "mimetype": "text/x-python",
   "name": "python",
   "nbconvert_exporter": "python",
   "pygments_lexer": "ipython2",
   "version": "2.7.13"
  }
 },
 "nbformat": 4,
 "nbformat_minor": 2
}
